{
  "nbformat": 4,
  "nbformat_minor": 0,
  "metadata": {
    "colab": {
      "provenance": [],
      "toc_visible": true,
      "include_colab_link": true
    },
    "kernelspec": {
      "name": "python3",
      "display_name": "Python 3"
    },
    "language_info": {
      "name": "python"
    },
    "gpuClass": "standard"
  },
  "cells": [
    {
      "cell_type": "markdown",
      "metadata": {
        "id": "view-in-github",
        "colab_type": "text"
      },
      "source": [
        "<a href=\"https://colab.research.google.com/github/andrewgray11/msdscapstone/blob/main/Solar_Power_Prediction_Capstone_Project.ipynb\" target=\"_parent\"><img src=\"https://colab.research.google.com/assets/colab-badge.svg\" alt=\"Open In Colab\"/></a>"
      ]
    },
    {
      "cell_type": "code",
      "execution_count": null,
      "metadata": {
        "id": "kxpq7_65BfYy"
      },
      "outputs": [],
      "source": [
        "import pandas as pd\n",
        "import numpy as np\n",
        "import matplotlib.pyplot as plt\n",
        "\n",
        "\n",
        "from sklearn.model_selection import train_test_split, GridSearchCV, RandomizedSearchCV\n",
        "from sklearn.linear_model import LinearRegression\n",
        "from scipy.stats import randint\n",
        "from sklearn.preprocessing import LabelEncoder, PolynomialFeatures\n",
        "\n",
        "from sklearn.ensemble import RandomForestRegressor, ExtraTreesRegressor, BaggingRegressor\n",
        "from sklearn.metrics import mean_squared_error, r2_score\n",
        "import lightgbm as lgb\n",
        "\n",
        "pd.set_option('display.width', 1000)"
      ]
    },
    {
      "cell_type": "code",
      "source": [
        "# Load the dataset\n",
        "df = pd.read_csv('updated_Pasion.csv')"
      ],
      "metadata": {
        "id": "40jmCHy5GK_s"
      },
      "execution_count": null,
      "outputs": []
    },
    {
      "cell_type": "markdown",
      "source": [
        "# Data Preparation"
      ],
      "metadata": {
        "id": "hxhiBMvj81vM"
      }
    },
    {
      "cell_type": "markdown",
      "source": [
        "## Adding State Data"
      ],
      "metadata": {
        "id": "9pmTimVw848X"
      }
    },
    {
      "cell_type": "code",
      "source": [
        "# create a dictionary to map location names to states\n",
        "states = {\n",
        "    'Camp Murray': 'WA',\n",
        "    'Grissom': 'IN',\n",
        "    'Hill Weber': 'UT',\n",
        "    'JDMT': 'FL',\n",
        "    'Kahului': 'HI',\n",
        "    'Malmstrom': 'MT',\n",
        "    'March AFB': 'CA',\n",
        "    'MNANG': 'MN',\n",
        "    'Offutt': 'IA',\n",
        "    'Peterson': 'CO',\n",
        "    'Travis': 'CA',\n",
        "    'USAFA': 'CO'\n",
        "}\n",
        "\n",
        "# add a column with the corresponding state for each location name\n",
        "df['State'] = df['Location Name'].map(states)\n",
        "\n",
        "df.head()"
      ],
      "metadata": {
        "colab": {
          "base_uri": "https://localhost:8080/",
          "height": 334
        },
        "id": "5QIg4gh9898B",
        "outputId": "b76bda22-1b88-4e02-8a6b-47742a47cd6f"
      },
      "execution_count": null,
      "outputs": [
        {
          "output_type": "execute_result",
          "data": {
            "text/plain": [
              "  Location Name    Date_x  Time_x  Latitude  Longitude                     Location  Altitude    YRMODAHRMI  Month  Hour  ... RelativeHumidity  SnowWater  SurfacePressure  WindDirection10m  WindSpeed10m  Zenith  AlbedoDaily    Date_y  Time_y  State\n",
              "0       Grissom  20181004    1030     40.67     -86.15   40.67_-86.15_20181004_1030       239  2.018100e+11     10    10  ...             88.5        0.0            985.1               242           5.2     106         0.19  20181004    1030     IN\n",
              "1       Grissom  20181004    1100     40.67     -86.15   40.67_-86.15_20181004_1100       239  2.018100e+11     10    11  ...             89.4        0.0            985.8               246           5.0     100         0.19  20181004    1100     IN\n",
              "2       Grissom  20181004    1300     40.67     -86.15   40.67_-86.15_20181004_1300       239  2.018100e+11     10    13  ...             94.2        0.0            987.7               291           4.3      78         0.19  20181004    1300     IN\n",
              "3       Grissom  20181004    1330     40.67     -86.15   40.67_-86.15_20181004_1330       239  2.018100e+11     10    13  ...             91.3        0.0            988.3               313           4.6      72         0.19  20181004    1330     IN\n",
              "4    Hill Weber  20181004    1000     41.15    -111.99  41.15_-111.99_20181004_1000      1370  2.018100e+11     10    10  ...             90.6        0.0            875.5                87           0.8     129         0.15  20181004    1000     UT\n",
              "\n",
              "[5 rows x 39 columns]"
            ],
            "text/html": [
              "\n",
              "  <div id=\"df-04f08615-c1c6-4d5a-9100-018442c02c72\">\n",
              "    <div class=\"colab-df-container\">\n",
              "      <div>\n",
              "<style scoped>\n",
              "    .dataframe tbody tr th:only-of-type {\n",
              "        vertical-align: middle;\n",
              "    }\n",
              "\n",
              "    .dataframe tbody tr th {\n",
              "        vertical-align: top;\n",
              "    }\n",
              "\n",
              "    .dataframe thead th {\n",
              "        text-align: right;\n",
              "    }\n",
              "</style>\n",
              "<table border=\"1\" class=\"dataframe\">\n",
              "  <thead>\n",
              "    <tr style=\"text-align: right;\">\n",
              "      <th></th>\n",
              "      <th>Location Name</th>\n",
              "      <th>Date_x</th>\n",
              "      <th>Time_x</th>\n",
              "      <th>Latitude</th>\n",
              "      <th>Longitude</th>\n",
              "      <th>Location</th>\n",
              "      <th>Altitude</th>\n",
              "      <th>YRMODAHRMI</th>\n",
              "      <th>Month</th>\n",
              "      <th>Hour</th>\n",
              "      <th>...</th>\n",
              "      <th>RelativeHumidity</th>\n",
              "      <th>SnowWater</th>\n",
              "      <th>SurfacePressure</th>\n",
              "      <th>WindDirection10m</th>\n",
              "      <th>WindSpeed10m</th>\n",
              "      <th>Zenith</th>\n",
              "      <th>AlbedoDaily</th>\n",
              "      <th>Date_y</th>\n",
              "      <th>Time_y</th>\n",
              "      <th>State</th>\n",
              "    </tr>\n",
              "  </thead>\n",
              "  <tbody>\n",
              "    <tr>\n",
              "      <th>0</th>\n",
              "      <td>Grissom</td>\n",
              "      <td>20181004</td>\n",
              "      <td>1030</td>\n",
              "      <td>40.67</td>\n",
              "      <td>-86.15</td>\n",
              "      <td>40.67_-86.15_20181004_1030</td>\n",
              "      <td>239</td>\n",
              "      <td>2.018100e+11</td>\n",
              "      <td>10</td>\n",
              "      <td>10</td>\n",
              "      <td>...</td>\n",
              "      <td>88.5</td>\n",
              "      <td>0.0</td>\n",
              "      <td>985.1</td>\n",
              "      <td>242</td>\n",
              "      <td>5.2</td>\n",
              "      <td>106</td>\n",
              "      <td>0.19</td>\n",
              "      <td>20181004</td>\n",
              "      <td>1030</td>\n",
              "      <td>IN</td>\n",
              "    </tr>\n",
              "    <tr>\n",
              "      <th>1</th>\n",
              "      <td>Grissom</td>\n",
              "      <td>20181004</td>\n",
              "      <td>1100</td>\n",
              "      <td>40.67</td>\n",
              "      <td>-86.15</td>\n",
              "      <td>40.67_-86.15_20181004_1100</td>\n",
              "      <td>239</td>\n",
              "      <td>2.018100e+11</td>\n",
              "      <td>10</td>\n",
              "      <td>11</td>\n",
              "      <td>...</td>\n",
              "      <td>89.4</td>\n",
              "      <td>0.0</td>\n",
              "      <td>985.8</td>\n",
              "      <td>246</td>\n",
              "      <td>5.0</td>\n",
              "      <td>100</td>\n",
              "      <td>0.19</td>\n",
              "      <td>20181004</td>\n",
              "      <td>1100</td>\n",
              "      <td>IN</td>\n",
              "    </tr>\n",
              "    <tr>\n",
              "      <th>2</th>\n",
              "      <td>Grissom</td>\n",
              "      <td>20181004</td>\n",
              "      <td>1300</td>\n",
              "      <td>40.67</td>\n",
              "      <td>-86.15</td>\n",
              "      <td>40.67_-86.15_20181004_1300</td>\n",
              "      <td>239</td>\n",
              "      <td>2.018100e+11</td>\n",
              "      <td>10</td>\n",
              "      <td>13</td>\n",
              "      <td>...</td>\n",
              "      <td>94.2</td>\n",
              "      <td>0.0</td>\n",
              "      <td>987.7</td>\n",
              "      <td>291</td>\n",
              "      <td>4.3</td>\n",
              "      <td>78</td>\n",
              "      <td>0.19</td>\n",
              "      <td>20181004</td>\n",
              "      <td>1300</td>\n",
              "      <td>IN</td>\n",
              "    </tr>\n",
              "    <tr>\n",
              "      <th>3</th>\n",
              "      <td>Grissom</td>\n",
              "      <td>20181004</td>\n",
              "      <td>1330</td>\n",
              "      <td>40.67</td>\n",
              "      <td>-86.15</td>\n",
              "      <td>40.67_-86.15_20181004_1330</td>\n",
              "      <td>239</td>\n",
              "      <td>2.018100e+11</td>\n",
              "      <td>10</td>\n",
              "      <td>13</td>\n",
              "      <td>...</td>\n",
              "      <td>91.3</td>\n",
              "      <td>0.0</td>\n",
              "      <td>988.3</td>\n",
              "      <td>313</td>\n",
              "      <td>4.6</td>\n",
              "      <td>72</td>\n",
              "      <td>0.19</td>\n",
              "      <td>20181004</td>\n",
              "      <td>1330</td>\n",
              "      <td>IN</td>\n",
              "    </tr>\n",
              "    <tr>\n",
              "      <th>4</th>\n",
              "      <td>Hill Weber</td>\n",
              "      <td>20181004</td>\n",
              "      <td>1000</td>\n",
              "      <td>41.15</td>\n",
              "      <td>-111.99</td>\n",
              "      <td>41.15_-111.99_20181004_1000</td>\n",
              "      <td>1370</td>\n",
              "      <td>2.018100e+11</td>\n",
              "      <td>10</td>\n",
              "      <td>10</td>\n",
              "      <td>...</td>\n",
              "      <td>90.6</td>\n",
              "      <td>0.0</td>\n",
              "      <td>875.5</td>\n",
              "      <td>87</td>\n",
              "      <td>0.8</td>\n",
              "      <td>129</td>\n",
              "      <td>0.15</td>\n",
              "      <td>20181004</td>\n",
              "      <td>1000</td>\n",
              "      <td>UT</td>\n",
              "    </tr>\n",
              "  </tbody>\n",
              "</table>\n",
              "<p>5 rows × 39 columns</p>\n",
              "</div>\n",
              "      <button class=\"colab-df-convert\" onclick=\"convertToInteractive('df-04f08615-c1c6-4d5a-9100-018442c02c72')\"\n",
              "              title=\"Convert this dataframe to an interactive table.\"\n",
              "              style=\"display:none;\">\n",
              "        \n",
              "  <svg xmlns=\"http://www.w3.org/2000/svg\" height=\"24px\"viewBox=\"0 0 24 24\"\n",
              "       width=\"24px\">\n",
              "    <path d=\"M0 0h24v24H0V0z\" fill=\"none\"/>\n",
              "    <path d=\"M18.56 5.44l.94 2.06.94-2.06 2.06-.94-2.06-.94-.94-2.06-.94 2.06-2.06.94zm-11 1L8.5 8.5l.94-2.06 2.06-.94-2.06-.94L8.5 2.5l-.94 2.06-2.06.94zm10 10l.94 2.06.94-2.06 2.06-.94-2.06-.94-.94-2.06-.94 2.06-2.06.94z\"/><path d=\"M17.41 7.96l-1.37-1.37c-.4-.4-.92-.59-1.43-.59-.52 0-1.04.2-1.43.59L10.3 9.45l-7.72 7.72c-.78.78-.78 2.05 0 2.83L4 21.41c.39.39.9.59 1.41.59.51 0 1.02-.2 1.41-.59l7.78-7.78 2.81-2.81c.8-.78.8-2.07 0-2.86zM5.41 20L4 18.59l7.72-7.72 1.47 1.35L5.41 20z\"/>\n",
              "  </svg>\n",
              "      </button>\n",
              "      \n",
              "  <style>\n",
              "    .colab-df-container {\n",
              "      display:flex;\n",
              "      flex-wrap:wrap;\n",
              "      gap: 12px;\n",
              "    }\n",
              "\n",
              "    .colab-df-convert {\n",
              "      background-color: #E8F0FE;\n",
              "      border: none;\n",
              "      border-radius: 50%;\n",
              "      cursor: pointer;\n",
              "      display: none;\n",
              "      fill: #1967D2;\n",
              "      height: 32px;\n",
              "      padding: 0 0 0 0;\n",
              "      width: 32px;\n",
              "    }\n",
              "\n",
              "    .colab-df-convert:hover {\n",
              "      background-color: #E2EBFA;\n",
              "      box-shadow: 0px 1px 2px rgba(60, 64, 67, 0.3), 0px 1px 3px 1px rgba(60, 64, 67, 0.15);\n",
              "      fill: #174EA6;\n",
              "    }\n",
              "\n",
              "    [theme=dark] .colab-df-convert {\n",
              "      background-color: #3B4455;\n",
              "      fill: #D2E3FC;\n",
              "    }\n",
              "\n",
              "    [theme=dark] .colab-df-convert:hover {\n",
              "      background-color: #434B5C;\n",
              "      box-shadow: 0px 1px 3px 1px rgba(0, 0, 0, 0.15);\n",
              "      filter: drop-shadow(0px 1px 2px rgba(0, 0, 0, 0.3));\n",
              "      fill: #FFFFFF;\n",
              "    }\n",
              "  </style>\n",
              "\n",
              "      <script>\n",
              "        const buttonEl =\n",
              "          document.querySelector('#df-04f08615-c1c6-4d5a-9100-018442c02c72 button.colab-df-convert');\n",
              "        buttonEl.style.display =\n",
              "          google.colab.kernel.accessAllowed ? 'block' : 'none';\n",
              "\n",
              "        async function convertToInteractive(key) {\n",
              "          const element = document.querySelector('#df-04f08615-c1c6-4d5a-9100-018442c02c72');\n",
              "          const dataTable =\n",
              "            await google.colab.kernel.invokeFunction('convertToInteractive',\n",
              "                                                     [key], {});\n",
              "          if (!dataTable) return;\n",
              "\n",
              "          const docLinkHtml = 'Like what you see? Visit the ' +\n",
              "            '<a target=\"_blank\" href=https://colab.research.google.com/notebooks/data_table.ipynb>data table notebook</a>'\n",
              "            + ' to learn more about interactive tables.';\n",
              "          element.innerHTML = '';\n",
              "          dataTable['output_type'] = 'display_data';\n",
              "          await google.colab.output.renderOutput(dataTable, element);\n",
              "          const docLink = document.createElement('div');\n",
              "          docLink.innerHTML = docLinkHtml;\n",
              "          element.appendChild(docLink);\n",
              "        }\n",
              "      </script>\n",
              "    </div>\n",
              "  </div>\n",
              "  "
            ]
          },
          "metadata": {},
          "execution_count": 97
        }
      ]
    },
    {
      "cell_type": "markdown",
      "source": [
        "## Feature Encoding"
      ],
      "metadata": {
        "id": "dlYOQs-37cUd"
      }
    },
    {
      "cell_type": "code",
      "source": [
        "# Encode seasons\n",
        "le = LabelEncoder()\n",
        "seasons = ['Spring', 'Summer', 'Fall', 'Winter']\n",
        "le.fit(seasons)\n",
        "df['Season_Encoded'] = le.transform(df['Season'])\n",
        "\n",
        "# Create mapping dictionary\n",
        "mapping_season = dict(zip(range(len(le.classes_)), le.classes_))\n",
        "print(mapping_season)"
      ],
      "metadata": {
        "colab": {
          "base_uri": "https://localhost:8080/"
        },
        "id": "J0lwveR06yQy",
        "outputId": "ac2b4bcb-065a-458c-e417-cc46e742ca48"
      },
      "execution_count": null,
      "outputs": [
        {
          "output_type": "stream",
          "name": "stdout",
          "text": [
            "{0: 'Fall', 1: 'Spring', 2: 'Summer', 3: 'Winter'}\n"
          ]
        }
      ]
    },
    {
      "cell_type": "code",
      "source": [
        "# Encode locations\n",
        "le2 = LabelEncoder()\n",
        "le2.fit(df['Location Name'])\n",
        "df['Location_Encoded'] = le2.transform(df['Location Name'])\n",
        "\n",
        "# Create mapping dictionary\n",
        "mapping_loc = dict(zip(range(len(le2.classes_)), le2.classes_))"
      ],
      "metadata": {
        "id": "mHlgiEdGpruu"
      },
      "execution_count": null,
      "outputs": []
    },
    {
      "cell_type": "code",
      "source": [
        "# assign X and y for explanatory and target variables\n",
        "X = df.drop('PolyPwr', axis=1)\n",
        "y = df['PolyPwr']"
      ],
      "metadata": {
        "id": "B8RndkpUGZy2"
      },
      "execution_count": null,
      "outputs": []
    },
    {
      "cell_type": "markdown",
      "source": [
        "# Train Test Split (all features)"
      ],
      "metadata": {
        "id": "moAkPehkGPja"
      }
    },
    {
      "cell_type": "code",
      "source": [
        "# Split the dataset into training and testing sets\n",
        "X_train, X_test, y_train, y_test = train_test_split(X, y, test_size=0.2, random_state=42)"
      ],
      "metadata": {
        "id": "adKlAuqoBtQ4"
      },
      "execution_count": null,
      "outputs": []
    },
    {
      "cell_type": "code",
      "source": [
        "# Drop unnecessary columns\n",
        "columns_to_drop = ['Location Name', 'Location', 'Date_y', 'Time_y', 'YRMODAHRMI', 'Season', 'State', 'Date_x', 'Time_x', 'Latitude', 'Longitude', 'Month', 'Hour', 'Cloud.Ceiling', 'Visibility', 'Dhi', 'Dni']\n",
        "X_train_red = X_train.drop(columns_to_drop, axis=1)\n",
        "X_test_red = X_test.drop(columns_to_drop, axis=1)"
      ],
      "metadata": {
        "id": "6gnCiqLIZnMQ"
      },
      "execution_count": null,
      "outputs": []
    },
    {
      "cell_type": "code",
      "source": [
        "X_train_red.head()"
      ],
      "metadata": {
        "colab": {
          "base_uri": "https://localhost:8080/",
          "height": 299
        },
        "id": "6aD7DPpL4mRc",
        "outputId": "743015d3-34c3-4dd3-faf7-bbba0fbda30c"
      },
      "execution_count": null,
      "outputs": [
        {
          "output_type": "execute_result",
          "data": {
            "text/plain": [
              "       Altitude  Humidity  AmbientTemp  Wind.Speed  Pressure  AirTemp  Azimuth  CloudOpacity  DewpointTemp  Ebh  ...  PrecipitableWater  RelativeHumidity  SnowWater  SurfacePressure  WindDirection10m  WindSpeed10m  Zenith  AlbedoDaily  Season_Encoded  Location_Encoded\n",
              "3048        458  19.04907     42.54784           6     959.8     24.3      -57           0.0          14.1    0  ...               47.2              53.1        0.0            974.4                78           0.7     103         0.15               2                 7\n",
              "16665       458   2.60620     30.35713          22     958.5     13.1      -97           0.0           0.2    1  ...                7.4              41.0        0.0            971.3                51           2.8      90         0.16               0                 7\n",
              "9792       1947  33.61206      9.73717          17     797.6     -1.3      -64           0.0          -3.6    0  ...                5.6              84.2        0.9            790.6                11           1.6     111         0.17               1                11\n",
              "3753       1947   7.84302     49.04099           7     802.6     25.3      -89          52.3           4.6    0  ...               15.5              26.3        0.0            804.7               303           2.4      57         0.15               2                11\n",
              "7270       1043  48.59009     16.82953           0     900.0      7.8      -82          40.3           4.9    0  ...               16.7              81.4        0.0            917.5                80           4.5      71         0.18               1                 6\n",
              "\n",
              "[5 rows x 23 columns]"
            ],
            "text/html": [
              "\n",
              "  <div id=\"df-574ef874-23c7-49e0-9d12-4b75554f96f8\">\n",
              "    <div class=\"colab-df-container\">\n",
              "      <div>\n",
              "<style scoped>\n",
              "    .dataframe tbody tr th:only-of-type {\n",
              "        vertical-align: middle;\n",
              "    }\n",
              "\n",
              "    .dataframe tbody tr th {\n",
              "        vertical-align: top;\n",
              "    }\n",
              "\n",
              "    .dataframe thead th {\n",
              "        text-align: right;\n",
              "    }\n",
              "</style>\n",
              "<table border=\"1\" class=\"dataframe\">\n",
              "  <thead>\n",
              "    <tr style=\"text-align: right;\">\n",
              "      <th></th>\n",
              "      <th>Altitude</th>\n",
              "      <th>Humidity</th>\n",
              "      <th>AmbientTemp</th>\n",
              "      <th>Wind.Speed</th>\n",
              "      <th>Pressure</th>\n",
              "      <th>AirTemp</th>\n",
              "      <th>Azimuth</th>\n",
              "      <th>CloudOpacity</th>\n",
              "      <th>DewpointTemp</th>\n",
              "      <th>Ebh</th>\n",
              "      <th>...</th>\n",
              "      <th>PrecipitableWater</th>\n",
              "      <th>RelativeHumidity</th>\n",
              "      <th>SnowWater</th>\n",
              "      <th>SurfacePressure</th>\n",
              "      <th>WindDirection10m</th>\n",
              "      <th>WindSpeed10m</th>\n",
              "      <th>Zenith</th>\n",
              "      <th>AlbedoDaily</th>\n",
              "      <th>Season_Encoded</th>\n",
              "      <th>Location_Encoded</th>\n",
              "    </tr>\n",
              "  </thead>\n",
              "  <tbody>\n",
              "    <tr>\n",
              "      <th>3048</th>\n",
              "      <td>458</td>\n",
              "      <td>19.04907</td>\n",
              "      <td>42.54784</td>\n",
              "      <td>6</td>\n",
              "      <td>959.8</td>\n",
              "      <td>24.3</td>\n",
              "      <td>-57</td>\n",
              "      <td>0.0</td>\n",
              "      <td>14.1</td>\n",
              "      <td>0</td>\n",
              "      <td>...</td>\n",
              "      <td>47.2</td>\n",
              "      <td>53.1</td>\n",
              "      <td>0.0</td>\n",
              "      <td>974.4</td>\n",
              "      <td>78</td>\n",
              "      <td>0.7</td>\n",
              "      <td>103</td>\n",
              "      <td>0.15</td>\n",
              "      <td>2</td>\n",
              "      <td>7</td>\n",
              "    </tr>\n",
              "    <tr>\n",
              "      <th>16665</th>\n",
              "      <td>458</td>\n",
              "      <td>2.60620</td>\n",
              "      <td>30.35713</td>\n",
              "      <td>22</td>\n",
              "      <td>958.5</td>\n",
              "      <td>13.1</td>\n",
              "      <td>-97</td>\n",
              "      <td>0.0</td>\n",
              "      <td>0.2</td>\n",
              "      <td>1</td>\n",
              "      <td>...</td>\n",
              "      <td>7.4</td>\n",
              "      <td>41.0</td>\n",
              "      <td>0.0</td>\n",
              "      <td>971.3</td>\n",
              "      <td>51</td>\n",
              "      <td>2.8</td>\n",
              "      <td>90</td>\n",
              "      <td>0.16</td>\n",
              "      <td>0</td>\n",
              "      <td>7</td>\n",
              "    </tr>\n",
              "    <tr>\n",
              "      <th>9792</th>\n",
              "      <td>1947</td>\n",
              "      <td>33.61206</td>\n",
              "      <td>9.73717</td>\n",
              "      <td>17</td>\n",
              "      <td>797.6</td>\n",
              "      <td>-1.3</td>\n",
              "      <td>-64</td>\n",
              "      <td>0.0</td>\n",
              "      <td>-3.6</td>\n",
              "      <td>0</td>\n",
              "      <td>...</td>\n",
              "      <td>5.6</td>\n",
              "      <td>84.2</td>\n",
              "      <td>0.9</td>\n",
              "      <td>790.6</td>\n",
              "      <td>11</td>\n",
              "      <td>1.6</td>\n",
              "      <td>111</td>\n",
              "      <td>0.17</td>\n",
              "      <td>1</td>\n",
              "      <td>11</td>\n",
              "    </tr>\n",
              "    <tr>\n",
              "      <th>3753</th>\n",
              "      <td>1947</td>\n",
              "      <td>7.84302</td>\n",
              "      <td>49.04099</td>\n",
              "      <td>7</td>\n",
              "      <td>802.6</td>\n",
              "      <td>25.3</td>\n",
              "      <td>-89</td>\n",
              "      <td>52.3</td>\n",
              "      <td>4.6</td>\n",
              "      <td>0</td>\n",
              "      <td>...</td>\n",
              "      <td>15.5</td>\n",
              "      <td>26.3</td>\n",
              "      <td>0.0</td>\n",
              "      <td>804.7</td>\n",
              "      <td>303</td>\n",
              "      <td>2.4</td>\n",
              "      <td>57</td>\n",
              "      <td>0.15</td>\n",
              "      <td>2</td>\n",
              "      <td>11</td>\n",
              "    </tr>\n",
              "    <tr>\n",
              "      <th>7270</th>\n",
              "      <td>1043</td>\n",
              "      <td>48.59009</td>\n",
              "      <td>16.82953</td>\n",
              "      <td>0</td>\n",
              "      <td>900.0</td>\n",
              "      <td>7.8</td>\n",
              "      <td>-82</td>\n",
              "      <td>40.3</td>\n",
              "      <td>4.9</td>\n",
              "      <td>0</td>\n",
              "      <td>...</td>\n",
              "      <td>16.7</td>\n",
              "      <td>81.4</td>\n",
              "      <td>0.0</td>\n",
              "      <td>917.5</td>\n",
              "      <td>80</td>\n",
              "      <td>4.5</td>\n",
              "      <td>71</td>\n",
              "      <td>0.18</td>\n",
              "      <td>1</td>\n",
              "      <td>6</td>\n",
              "    </tr>\n",
              "  </tbody>\n",
              "</table>\n",
              "<p>5 rows × 23 columns</p>\n",
              "</div>\n",
              "      <button class=\"colab-df-convert\" onclick=\"convertToInteractive('df-574ef874-23c7-49e0-9d12-4b75554f96f8')\"\n",
              "              title=\"Convert this dataframe to an interactive table.\"\n",
              "              style=\"display:none;\">\n",
              "        \n",
              "  <svg xmlns=\"http://www.w3.org/2000/svg\" height=\"24px\"viewBox=\"0 0 24 24\"\n",
              "       width=\"24px\">\n",
              "    <path d=\"M0 0h24v24H0V0z\" fill=\"none\"/>\n",
              "    <path d=\"M18.56 5.44l.94 2.06.94-2.06 2.06-.94-2.06-.94-.94-2.06-.94 2.06-2.06.94zm-11 1L8.5 8.5l.94-2.06 2.06-.94-2.06-.94L8.5 2.5l-.94 2.06-2.06.94zm10 10l.94 2.06.94-2.06 2.06-.94-2.06-.94-.94-2.06-.94 2.06-2.06.94z\"/><path d=\"M17.41 7.96l-1.37-1.37c-.4-.4-.92-.59-1.43-.59-.52 0-1.04.2-1.43.59L10.3 9.45l-7.72 7.72c-.78.78-.78 2.05 0 2.83L4 21.41c.39.39.9.59 1.41.59.51 0 1.02-.2 1.41-.59l7.78-7.78 2.81-2.81c.8-.78.8-2.07 0-2.86zM5.41 20L4 18.59l7.72-7.72 1.47 1.35L5.41 20z\"/>\n",
              "  </svg>\n",
              "      </button>\n",
              "      \n",
              "  <style>\n",
              "    .colab-df-container {\n",
              "      display:flex;\n",
              "      flex-wrap:wrap;\n",
              "      gap: 12px;\n",
              "    }\n",
              "\n",
              "    .colab-df-convert {\n",
              "      background-color: #E8F0FE;\n",
              "      border: none;\n",
              "      border-radius: 50%;\n",
              "      cursor: pointer;\n",
              "      display: none;\n",
              "      fill: #1967D2;\n",
              "      height: 32px;\n",
              "      padding: 0 0 0 0;\n",
              "      width: 32px;\n",
              "    }\n",
              "\n",
              "    .colab-df-convert:hover {\n",
              "      background-color: #E2EBFA;\n",
              "      box-shadow: 0px 1px 2px rgba(60, 64, 67, 0.3), 0px 1px 3px 1px rgba(60, 64, 67, 0.15);\n",
              "      fill: #174EA6;\n",
              "    }\n",
              "\n",
              "    [theme=dark] .colab-df-convert {\n",
              "      background-color: #3B4455;\n",
              "      fill: #D2E3FC;\n",
              "    }\n",
              "\n",
              "    [theme=dark] .colab-df-convert:hover {\n",
              "      background-color: #434B5C;\n",
              "      box-shadow: 0px 1px 3px 1px rgba(0, 0, 0, 0.15);\n",
              "      filter: drop-shadow(0px 1px 2px rgba(0, 0, 0, 0.3));\n",
              "      fill: #FFFFFF;\n",
              "    }\n",
              "  </style>\n",
              "\n",
              "      <script>\n",
              "        const buttonEl =\n",
              "          document.querySelector('#df-574ef874-23c7-49e0-9d12-4b75554f96f8 button.colab-df-convert');\n",
              "        buttonEl.style.display =\n",
              "          google.colab.kernel.accessAllowed ? 'block' : 'none';\n",
              "\n",
              "        async function convertToInteractive(key) {\n",
              "          const element = document.querySelector('#df-574ef874-23c7-49e0-9d12-4b75554f96f8');\n",
              "          const dataTable =\n",
              "            await google.colab.kernel.invokeFunction('convertToInteractive',\n",
              "                                                     [key], {});\n",
              "          if (!dataTable) return;\n",
              "\n",
              "          const docLinkHtml = 'Like what you see? Visit the ' +\n",
              "            '<a target=\"_blank\" href=https://colab.research.google.com/notebooks/data_table.ipynb>data table notebook</a>'\n",
              "            + ' to learn more about interactive tables.';\n",
              "          element.innerHTML = '';\n",
              "          dataTable['output_type'] = 'display_data';\n",
              "          await google.colab.output.renderOutput(dataTable, element);\n",
              "          const docLink = document.createElement('div');\n",
              "          docLink.innerHTML = docLinkHtml;\n",
              "          element.appendChild(docLink);\n",
              "        }\n",
              "      </script>\n",
              "    </div>\n",
              "  </div>\n",
              "  "
            ]
          },
          "metadata": {},
          "execution_count": 103
        }
      ]
    },
    {
      "cell_type": "code",
      "source": [
        "X_train_red.info()"
      ],
      "metadata": {
        "colab": {
          "base_uri": "https://localhost:8080/"
        },
        "id": "azLZEbuz4qo5",
        "outputId": "e1b11df4-d35f-4a85-e3f8-2fd1d360c4ab"
      },
      "execution_count": null,
      "outputs": [
        {
          "output_type": "stream",
          "name": "stdout",
          "text": [
            "<class 'pandas.core.frame.DataFrame'>\n",
            "Int64Index: 16836 entries, 3048 to 15795\n",
            "Data columns (total 23 columns):\n",
            " #   Column             Non-Null Count  Dtype  \n",
            "---  ------             --------------  -----  \n",
            " 0   Altitude           16836 non-null  int64  \n",
            " 1   Humidity           16836 non-null  float64\n",
            " 2   AmbientTemp        16836 non-null  float64\n",
            " 3   Wind.Speed         16836 non-null  int64  \n",
            " 4   Pressure           16836 non-null  float64\n",
            " 5   AirTemp            16836 non-null  float64\n",
            " 6   Azimuth            16836 non-null  int64  \n",
            " 7   CloudOpacity       16836 non-null  float64\n",
            " 8   DewpointTemp       16836 non-null  float64\n",
            " 9   Ebh                16836 non-null  int64  \n",
            " 10  Ghi                16836 non-null  int64  \n",
            " 11  GtiFixedTilt       16836 non-null  int64  \n",
            " 12  GtiTracking        16836 non-null  int64  \n",
            " 13  PrecipitableWater  16836 non-null  float64\n",
            " 14  RelativeHumidity   16836 non-null  float64\n",
            " 15  SnowWater          16836 non-null  float64\n",
            " 16  SurfacePressure    16836 non-null  float64\n",
            " 17  WindDirection10m   16836 non-null  int64  \n",
            " 18  WindSpeed10m       16836 non-null  float64\n",
            " 19  Zenith             16836 non-null  int64  \n",
            " 20  AlbedoDaily        16836 non-null  float64\n",
            " 21  Season_Encoded     16836 non-null  int64  \n",
            " 22  Location_Encoded   16836 non-null  int64  \n",
            "dtypes: float64(12), int64(11)\n",
            "memory usage: 3.1 MB\n"
          ]
        }
      ]
    },
    {
      "cell_type": "markdown",
      "source": [
        "# Models (all features)"
      ],
      "metadata": {
        "id": "YQNe7E5zHnUM"
      }
    },
    {
      "cell_type": "markdown",
      "source": [
        "## Random Forest by Season"
      ],
      "metadata": {
        "id": "wNidx4ekOAcL"
      }
    },
    {
      "cell_type": "code",
      "source": [
        "# Create a dictionary to store the models for each season\n",
        "season_models = {}\n",
        "\n",
        "# Create a list to store the scores\n",
        "scores_list = []\n",
        "\n",
        "# Iterate over each season\n",
        "for season_code, season_name in mapping_season.items():\n",
        "    # Filter the data for the current season\n",
        "    season_X_train = X_train_red[X_train_red['Season_Encoded'] == season_code].drop(['Location_Encoded'], axis =1)\n",
        "    season_y_train = y_train[X_train_red['Season_Encoded'] == season_code]\n",
        "    season_X_test = X_test_red[X_test_red['Season_Encoded'] == season_code].drop(['Location_Encoded'], axis =1)\n",
        "    season_y_test = y_test[X_test_red['Season_Encoded'] == season_code]\n",
        "    \n",
        "    # Create a Random Forest model\n",
        "    model = RandomForestRegressor(n_estimators=100, random_state=42)\n",
        "    \n",
        "    # Fit the model on the training data\n",
        "    model.fit(season_X_train, season_y_train)\n",
        "    \n",
        "    # Evaluate the model on the testing data\n",
        "    test_predictions = model.predict(season_X_test)\n",
        "    test_score = model.score(season_X_test, season_y_test)\n",
        "    \n",
        "    # Calculate RMSE for the testing data\n",
        "    test_rmse = mean_squared_error(season_y_test, test_predictions, squared=False)\n",
        "\n",
        "    # Make predictions on the training data\n",
        "    train_predictions = model.predict(season_X_train)\n",
        "\n",
        "    # Calculate the R^2 score on the training data\n",
        "    train_score = model.score(season_X_train, season_y_train)\n",
        "\n",
        "    # Calculate RMSE for the training data\n",
        "    train_rmse = mean_squared_error(season_y_train, train_predictions, squared=False)\n",
        "\n",
        "    # Store the model in the dictionary\n",
        "    season_models[season_name] = model\n",
        "    \n",
        "    # Make predictions on the full dataset\n",
        "    season_X_full = X[X['Season_Encoded'] == season_code].drop(columns_to_drop, axis=1).drop(['Location_Encoded'], axis =1)\n",
        "    season_y_full = y[X['Season_Encoded'] == season_code]\n",
        "    full_predictions = model.predict(season_X_full)\n",
        "\n",
        "    # Calculate the R^2 score on the full dataset\n",
        "    full_data_score = r2_score(season_y_full, full_predictions)\n",
        "    \n",
        "    # Calculate RMSE for the full dataset\n",
        "    full_rmse = mean_squared_error(season_y_full, full_predictions, squared=False)\n",
        "    \n",
        "    # Append the scores to the DataFrame\n",
        "    scores_list.append({'Season': season_name,\n",
        "                    'R^2 Score (Train Data)': train_score,\n",
        "                    'RMSE (Train Data)': train_rmse,\n",
        "                    'R^2 Score (Test Data)': test_score,\n",
        "                    'RMSE (Test Data)': test_rmse,\n",
        "                    'R^2 Score (Full Data)': full_data_score,\n",
        "                    'RMSE (Full Data)': full_rmse})\n",
        "                    \n",
        "\n",
        "# Create a DataFrame from the scores list\n",
        "scores_df = pd.DataFrame(scores_list)\n",
        "\n",
        "# Accessing the models for each season\n",
        "spring_model = season_models['Spring']\n",
        "summer_model = season_models['Summer']\n",
        "fall_model = season_models['Fall']\n",
        "winter_model = season_models['Winter']"
      ],
      "metadata": {
        "id": "Q5e8UHAtOAcT"
      },
      "execution_count": null,
      "outputs": []
    },
    {
      "cell_type": "code",
      "source": [
        "# Print the scores table\n",
        "print('Random Forest by Season Results:')\n",
        "print(scores_df)"
      ],
      "metadata": {
        "colab": {
          "base_uri": "https://localhost:8080/"
        },
        "outputId": "66e9b28f-bd0d-4965-aaec-cdc418665e66",
        "id": "H0PsDQeMOAcT"
      },
      "execution_count": null,
      "outputs": [
        {
          "output_type": "stream",
          "name": "stdout",
          "text": [
            "Random Forest by Season Results:\n",
            "   Season  R^2 Score (Train Data)  RMSE (Train Data)  R^2 Score (Test Data)  RMSE (Test Data)  R^2 Score (Full Data)  RMSE (Full Data)\n",
            "0    Fall                0.949175           1.378852               0.678027          3.509986               0.893519          2.000738\n",
            "1  Spring                0.937504           1.902210               0.582885          4.860038               0.866967          2.769531\n",
            "2  Summer                0.941390           1.577443               0.611408          4.038443               0.876344          2.288664\n",
            "3  Winter                0.964738           1.121549               0.755816          3.003006               0.922474          1.668976\n"
          ]
        }
      ]
    },
    {
      "cell_type": "markdown",
      "source": [
        "## Extra Trees by Season"
      ],
      "metadata": {
        "id": "TwAtyZuM6D3l"
      }
    },
    {
      "cell_type": "code",
      "source": [
        "# Create a dictionary to store the models for each season\n",
        "season_models = {}\n",
        "\n",
        "# Create a list to store the scores\n",
        "scores_list = []\n",
        "\n",
        "# Iterate over each season\n",
        "for season_code, season_name in mapping_season.items():\n",
        "    # Filter the data for the current season\n",
        "    season_X_train = X_train_red[X_train_red['Season_Encoded'] == season_code].drop(['Location_Encoded'], axis =1)\n",
        "    season_y_train = y_train[X_train_red['Season_Encoded'] == season_code]\n",
        "    season_X_test = X_test_red[X_test_red['Season_Encoded'] == season_code].drop(['Location_Encoded'], axis =1)\n",
        "    season_y_test = y_test[X_test_red['Season_Encoded'] == season_code]\n",
        "    \n",
        "    # Create a ExtraTrees model\n",
        "    model = ExtraTreesRegressor(n_estimators=100, random_state=42)\n",
        "    \n",
        "    # Fit the model on the training data\n",
        "    model.fit(season_X_train, season_y_train)\n",
        "    \n",
        "    # Evaluate the model on the testing data\n",
        "    test_predictions = model.predict(season_X_test)\n",
        "    test_score = model.score(season_X_test, season_y_test)\n",
        "    \n",
        "    # Calculate RMSE for the testing data\n",
        "    test_rmse = mean_squared_error(season_y_test, test_predictions, squared=False)\n",
        "\n",
        "    # Make predictions on the training data\n",
        "    train_predictions = model.predict(season_X_train)\n",
        "\n",
        "    # Calculate the R^2 score on the training data\n",
        "    train_score = model.score(season_X_train, season_y_train)\n",
        "\n",
        "    # Calculate RMSE for the training data\n",
        "    train_rmse = mean_squared_error(season_y_train, train_predictions, squared=False)\n",
        "\n",
        "    # Store the model in the dictionary\n",
        "    season_models[season_name] = model\n",
        "    \n",
        "    # Make predictions on the full dataset\n",
        "    season_X_full = X[X['Season_Encoded'] == season_code].drop(columns_to_drop, axis=1).drop(['Location_Encoded'], axis =1)\n",
        "    season_y_full = y[X['Season_Encoded'] == season_code]\n",
        "    full_predictions = model.predict(season_X_full)\n",
        "\n",
        "    # Calculate the R^2 score on the full dataset\n",
        "    full_data_score = r2_score(season_y_full, full_predictions)\n",
        "    \n",
        "    # Calculate RMSE for the full dataset\n",
        "    full_rmse = mean_squared_error(season_y_full, full_predictions, squared=False)\n",
        "    \n",
        "    # Append the scores to the DataFrame\n",
        "    scores_list.append({'Season': season_name,\n",
        "                    'R^2 Score (Train Data)': train_score,\n",
        "                    'RMSE (Train Data)': train_rmse,\n",
        "                    'R^2 Score (Test Data)': test_score,\n",
        "                    'RMSE (Test Data)': test_rmse,\n",
        "                    'R^2 Score (Full Data)': full_data_score,\n",
        "                    'RMSE (Full Data)': full_rmse})\n",
        "\n",
        "# Create a DataFrame from the scores list\n",
        "scores_df = pd.DataFrame(scores_list)\n",
        "\n",
        "# Accessing the models for each season\n",
        "spring_model = season_models['Spring']\n",
        "summer_model = season_models['Summer']\n",
        "fall_model = season_models['Fall']\n",
        "winter_model = season_models['Winter']"
      ],
      "metadata": {
        "id": "DYD-RNwn6GL_"
      },
      "execution_count": null,
      "outputs": []
    },
    {
      "cell_type": "code",
      "source": [
        "# Print the scores table\n",
        "print('Extra Trees by Season Results:')\n",
        "print(scores_df)"
      ],
      "metadata": {
        "id": "Z_9Z8nZS6UkF",
        "colab": {
          "base_uri": "https://localhost:8080/"
        },
        "outputId": "6726d7e5-3cab-4d15-b37b-4e2756692e5a"
      },
      "execution_count": null,
      "outputs": [
        {
          "output_type": "stream",
          "name": "stdout",
          "text": [
            "Extra Trees by Season Results:\n",
            "   Season  R^2 Score (Train Data)  RMSE (Train Data)  R^2 Score (Test Data)  RMSE (Test Data)  R^2 Score (Full Data)  RMSE (Full Data)\n",
            "0    Fall                     1.0       1.772565e-14               0.665200          3.579220               0.931257          1.607562\n",
            "1  Spring                     1.0       2.188613e-14               0.589555          4.821023               0.918338          2.169884\n",
            "2  Summer                     1.0       2.371289e-14               0.620184          3.992579               0.925130          1.780853\n",
            "3  Winter                     1.0       1.368573e-14               0.790147          2.783905               0.957538          1.235165\n"
          ]
        }
      ]
    },
    {
      "cell_type": "markdown",
      "source": [
        "## Random Forest by Location"
      ],
      "metadata": {
        "id": "phDqOfDAOAcT"
      }
    },
    {
      "cell_type": "code",
      "source": [
        "# Create a dictionary to store the models for each season\n",
        "location_models = {}\n",
        "\n",
        "# Create a list to store the scores\n",
        "scores_list = []\n",
        "\n",
        "# Iterate over each location\n",
        "for location_code, location_name in mapping_loc.items():\n",
        "    # Filter the data for the current location\n",
        "    location_X_train = X_train_red[X_train_red['Location_Encoded'] == location_code].drop(['Season_Encoded'], axis =1)\n",
        "    location_y_train = y_train[X_train_red['Location_Encoded'] == location_code]\n",
        "    location_X_test = X_test_red[X_test_red['Location_Encoded'] == location_code].drop(['Season_Encoded'], axis =1)\n",
        "    location_y_test = y_test[X_test_red['Location_Encoded'] == location_code]\n",
        "    \n",
        "    # Create a Random Forest model\n",
        "    model = RandomForestRegressor(n_estimators=100, random_state=42)\n",
        "    \n",
        "    # Fit the model on the training data\n",
        "    model.fit(location_X_train, location_y_train)\n",
        "    \n",
        "    # Evaluate the model on the testing data\n",
        "    test_predictions = model.predict(location_X_test)\n",
        "    test_score = model.score(location_X_test, location_y_test)\n",
        "    \n",
        "    # Calculate RMSE for the testing data\n",
        "    test_rmse = mean_squared_error(location_y_test, test_predictions, squared=False)\n",
        "\n",
        "    # Make predictions on the training data\n",
        "    train_predictions = model.predict(location_X_train)\n",
        "    \n",
        "    # Calculate the R^2 score on the training data\n",
        "    train_score = model.score(location_X_train, location_y_train)\n",
        "    \n",
        "    # Calculate RMSE for the training data\n",
        "    train_rmse = mean_squared_error(location_y_train, train_predictions, squared=False)\n",
        "\n",
        "    # Store the model in the dictionary\n",
        "    location_models[location_name] = model\n",
        "    \n",
        "    # Drop unnecessary columns from the full dataset\n",
        "    location_X_full = X[X['Location_Encoded'] == location_code].drop(columns_to_drop, axis=1).drop(['Season_Encoded'], axis =1)\n",
        "    location_y_full = y[X['Location_Encoded'] == location_code]\n",
        "    \n",
        "    # Make predictions on the full dataset\n",
        "    predictions = model.predict(location_X_full)\n",
        "\n",
        "    # Calculate the R^2 score on the full dataset\n",
        "    full_data_score = r2_score(location_y_full, predictions)\n",
        "    \n",
        "    # Calculate RMSE for the full dataset\n",
        "    full_rmse = mean_squared_error(location_y_full, predictions, squared=False)\n",
        "    \n",
        "    # Append the scores to the DataFrame\n",
        "    scores_list.append({'Location': location_name,\n",
        "                        'R^2 Score (Train Data)': train_score,\n",
        "                        'RMSE (Train Data)': train_rmse,\n",
        "                        'R^2 Score (Test Data)': test_score,\n",
        "                        'RMSE (Test Data)': test_rmse,\n",
        "                        'R^2 Score (Full Data)': full_data_score,\n",
        "                        'RMSE (Full Data)': full_rmse,})\n",
        "    \n",
        "# Create a DataFrame from the scores list\n",
        "scores_df = pd.DataFrame(scores_list)\n",
        "\n",
        "# Accessing the models for each location\n",
        "camp_murray_model = location_models['Camp Murray']\n",
        "grissom_model = location_models['Grissom']\n",
        "hill_weber_model = location_models['Hill Weber']\n",
        "jdm_model = location_models['JDMT']\n",
        "kahului_model = location_models['Kahului']\n",
        "mnang_model = location_models['MNANG']\n",
        "malmstrom_model = location_models['Malmstrom']\n",
        "march_afb_model = location_models['March AFB']\n",
        "offutt_model = location_models['Offutt']\n",
        "peterson_model = location_models['Peterson']\n",
        "travis_model = location_models['Travis']\n",
        "usafa_model = location_models['USAFA']"
      ],
      "metadata": {
        "id": "BCwarh4JOAcT"
      },
      "execution_count": null,
      "outputs": []
    },
    {
      "cell_type": "code",
      "source": [
        "# Print the scores table\n",
        "print('Random Forest by Location Results:')\n",
        "print(scores_df)"
      ],
      "metadata": {
        "colab": {
          "base_uri": "https://localhost:8080/"
        },
        "outputId": "d8ca2f07-65cc-4e25-f303-3f3fce73e7eb",
        "id": "nC6QEkY5OAcT"
      },
      "execution_count": null,
      "outputs": [
        {
          "output_type": "stream",
          "name": "stdout",
          "text": [
            "Random Forest by Location Results:\n",
            "       Location  R^2 Score (Train Data)  RMSE (Train Data)  R^2 Score (Test Data)  RMSE (Test Data)  R^2 Score (Full Data)  RMSE (Full Data)\n",
            "0   Camp Murray                0.965341           1.293267               0.728657          3.429333               0.923061          1.907705\n",
            "1       Grissom                0.946019           1.578943               0.678206          3.747400               0.893787          2.203251\n",
            "2    Hill Weber                0.954167           1.459307               0.685540          3.823461               0.902426          2.129361\n",
            "3          JDMT                0.934550           1.918287               0.528914          5.070545               0.856634          2.830922\n",
            "4       Kahului                0.918935           2.029835               0.417385          5.674198               0.803108          3.194825\n",
            "5         MNANG                0.950938           1.709978               0.693452          4.221722               0.901629          2.417955\n",
            "6     Malmstrom                0.950541           1.561509               0.687360          4.027676               0.894564          2.296350\n",
            "7     March AFB                0.948098           1.159838               0.655485          3.049027               0.889104          1.702979\n",
            "8        Offutt                0.945039           1.904224               0.577223          5.221781               0.870003          2.921768\n",
            "9      Peterson                0.942686           1.622625               0.633395          4.118003               0.881791          2.332002\n",
            "10       Travis                0.968343           1.188407               0.804748          2.934293               0.934164          1.711717\n",
            "11        USAFA                0.936070           1.481054               0.506530          4.029105               0.855472          2.218532\n"
          ]
        }
      ]
    },
    {
      "cell_type": "markdown",
      "source": [
        "## Extra Trees by Location"
      ],
      "metadata": {
        "id": "VZLMHb1F6iWW"
      }
    },
    {
      "cell_type": "code",
      "source": [
        "# Create a dictionary to store the models for each season\n",
        "location_models = {}\n",
        "\n",
        "# Create a list to store the scores\n",
        "scores_list = []\n",
        "\n",
        "# Iterate over each location\n",
        "for location_code, location_name in mapping_loc.items():\n",
        "    # Filter the data for the current location\n",
        "    location_X_train = X_train_red[X_train_red['Location_Encoded'] == location_code].drop(['Season_Encoded'], axis =1)\n",
        "    location_y_train = y_train[X_train_red['Location_Encoded'] == location_code]\n",
        "    location_X_test = X_test_red[X_test_red['Location_Encoded'] == location_code].drop(['Season_Encoded'], axis =1)\n",
        "    location_y_test = y_test[X_test_red['Location_Encoded'] == location_code]\n",
        "    \n",
        "    # Create a ExtraTrees model\n",
        "    model = ExtraTreesRegressor(n_estimators=100, random_state=42)\n",
        "    \n",
        "    # Fit the model on the training data\n",
        "    model.fit(location_X_train, location_y_train)\n",
        "    \n",
        "    # Evaluate the model on the testing data\n",
        "    test_predictions = model.predict(location_X_test)\n",
        "    test_score = model.score(location_X_test, location_y_test)\n",
        "    \n",
        "    # Calculate RMSE for the testing data\n",
        "    test_rmse = mean_squared_error(location_y_test, test_predictions, squared=False)\n",
        "\n",
        "    # Make predictions on the training data\n",
        "    train_predictions = model.predict(location_X_train)\n",
        "    \n",
        "    # Calculate the R^2 score on the training data\n",
        "    train_score = model.score(location_X_train, location_y_train)\n",
        "    \n",
        "    # Calculate RMSE for the training data\n",
        "    train_rmse = mean_squared_error(location_y_train, train_predictions, squared=False)\n",
        "\n",
        "    # Store the model in the dictionary\n",
        "    location_models[location_name] = model\n",
        "    \n",
        "    # Drop unnecessary columns from the full dataset\n",
        "    location_X_full = X[X['Location_Encoded'] == location_code].drop(columns_to_drop, axis=1).drop(['Season_Encoded'], axis =1)\n",
        "    location_y_full = y[X['Location_Encoded'] == location_code]\n",
        "    \n",
        "    # Make predictions on the full dataset\n",
        "    predictions = model.predict(location_X_full)\n",
        "\n",
        "    # Calculate the R^2 score on the full dataset\n",
        "    full_data_score = r2_score(location_y_full, predictions)\n",
        "    \n",
        "    # Calculate RMSE for the full dataset\n",
        "    full_rmse = mean_squared_error(location_y_full, predictions, squared=False)\n",
        "    \n",
        "    # Append the scores to the DataFrame\n",
        "    scores_list.append({'Location': location_name,\n",
        "                        'R^2 Score (Train Data)': train_score,\n",
        "                        'RMSE (Train Data)': train_rmse,\n",
        "                        'R^2 Score (Test Data)': test_score,\n",
        "                        'RMSE (Test Data)': test_rmse,\n",
        "                        'R^2 Score (Full Data)': full_data_score,\n",
        "                        'RMSE (Full Data)': full_rmse,})\n",
        "    \n",
        "# Create a DataFrame from the scores list\n",
        "scores_df = pd.DataFrame(scores_list)\n",
        "\n",
        "# Accessing the models for each location\n",
        "camp_murray_model = location_models['Camp Murray']\n",
        "grissom_model = location_models['Grissom']\n",
        "hill_weber_model = location_models['Hill Weber']\n",
        "jdm_model = location_models['JDMT']\n",
        "kahului_model = location_models['Kahului']\n",
        "mnang_model = location_models['MNANG']\n",
        "malmstrom_model = location_models['Malmstrom']\n",
        "march_afb_model = location_models['March AFB']\n",
        "offutt_model = location_models['Offutt']\n",
        "peterson_model = location_models['Peterson']\n",
        "travis_model = location_models['Travis']\n",
        "usafa_model = location_models['USAFA']"
      ],
      "metadata": {
        "id": "qqR5KNRL6iWX"
      },
      "execution_count": null,
      "outputs": []
    },
    {
      "cell_type": "code",
      "source": [
        "# Print the scores table\n",
        "print('Extra Trees by Location Results:')\n",
        "print(scores_df)"
      ],
      "metadata": {
        "colab": {
          "base_uri": "https://localhost:8080/"
        },
        "outputId": "722d89cf-ce55-4db1-f9ef-05cc328f45a0",
        "id": "me2ll-V_6iWX"
      },
      "execution_count": null,
      "outputs": [
        {
          "output_type": "stream",
          "name": "stdout",
          "text": [
            "Extra Trees by Location Results:\n",
            "       Location  R^2 Score (Train Data)  RMSE (Train Data)  R^2 Score (Test Data)  RMSE (Test Data)  R^2 Score (Full Data)  RMSE (Full Data)\n",
            "0   Camp Murray                     1.0       1.850312e-14               0.745983          3.318041               0.954621          1.465089\n",
            "1       Grissom                     1.0       1.684754e-14               0.674558          3.768582               0.936472          1.703959\n",
            "2    Hill Weber                     1.0       2.234737e-14               0.698444          3.744195               0.941916          1.642902\n",
            "3          JDMT                     1.0       2.588875e-14               0.514300          5.148593               0.906705          2.283677\n",
            "4       Kahului                     1.0       2.182671e-14               0.409887          5.710596               0.863624          2.658898\n",
            "5         MNANG                     1.0       1.851648e-14               0.701807          4.163799               0.942780          1.844116\n",
            "6     Malmstrom                     1.0       1.701365e-14               0.713069          3.858523               0.938776          1.749869\n",
            "7     March AFB                     1.0       2.095184e-14               0.646348          3.089191               0.928640          1.366085\n",
            "8        Offutt                     1.0       2.168659e-14               0.593385          5.121004               0.917048          2.333956\n",
            "9      Peterson                     1.0       1.851078e-14               0.619416          4.195780               0.925061          1.856761\n",
            "10       Travis                     1.0       2.145298e-14               0.819897          2.818160               0.962372          1.294061\n",
            "11        USAFA                     1.0       2.055597e-14               0.518605          3.979503               0.909633          1.754260\n"
          ]
        }
      ]
    },
    {
      "cell_type": "markdown",
      "source": [
        "## Random Forest"
      ],
      "metadata": {
        "id": "Dpr2QwsrGVZH"
      }
    },
    {
      "cell_type": "code",
      "source": [
        "# Drop season and location encoded variables\n",
        "new_columns_to_drop = ['Season_Encoded', 'Location_Encoded']\n",
        "X_train_red = X_train_red.drop(new_columns_to_drop, axis=1)\n",
        "X_test_red = X_test_red.drop(new_columns_to_drop, axis=1)"
      ],
      "metadata": {
        "id": "Nr_k4XIxTQyz"
      },
      "execution_count": null,
      "outputs": []
    },
    {
      "cell_type": "code",
      "source": [
        "# Create a random forest regressor model\n",
        "rf = RandomForestRegressor(n_estimators=100, random_state=42)\n",
        "\n",
        "# Train the model on the training data\n",
        "rf.fit(X_train_red, y_train)\n",
        "\n",
        "# Make predictions on the testing data\n",
        "y_pred = rf.predict(X_test_red)"
      ],
      "metadata": {
        "id": "lvPKlaJ5CL5I"
      },
      "execution_count": null,
      "outputs": []
    },
    {
      "cell_type": "code",
      "source": [
        "# Calculate the mean squared error\n",
        "rmse_test = mean_squared_error(y_test, y_pred, squared = False)"
      ],
      "metadata": {
        "id": "0f0fcsWFDgck"
      },
      "execution_count": null,
      "outputs": []
    },
    {
      "cell_type": "code",
      "source": [
        "# Calculate the r-squared on test data\n",
        "y_pred = rf.predict(X_test_red)\n",
        "r2_test = r2_score(y_test, y_pred)"
      ],
      "metadata": {
        "id": "fCRMUfG2Dhan"
      },
      "execution_count": null,
      "outputs": []
    },
    {
      "cell_type": "code",
      "source": [
        "# Make predictions on the training data\n",
        "y_train_pred = rf.predict(X_train_red)\n",
        "\n",
        "# Calculate the R^2 score on the training data\n",
        "r2_train = rf.score(X_train_red, y_train)\n",
        "\n",
        "# Calculate the RMSE on the training data\n",
        "rmse_train = mean_squared_error(y_train, y_train_pred, squared=False)"
      ],
      "metadata": {
        "id": "xZQ3F6DcN7Bm"
      },
      "execution_count": null,
      "outputs": []
    },
    {
      "cell_type": "code",
      "source": [
        "# Calculate the r-squared on total data set\n",
        "X_red = X.drop(columns_to_drop, axis=1).drop(new_columns_to_drop, axis=1)\n",
        "y_pred = rf.predict(X_red)\n",
        "y_true = df['PolyPwr'].values\n",
        "\n",
        "rmse_full = mean_squared_error(y_true, y_pred, squared = False)\n",
        "r2_full = r2_score(y_true, y_pred)"
      ],
      "metadata": {
        "id": "rFmov1rqbSYa"
      },
      "execution_count": null,
      "outputs": []
    },
    {
      "cell_type": "code",
      "source": [
        "# Create a dictionary with the metrics\n",
        "metrics = {'Model': ['Random Forest'],\n",
        "           'RMSE (Train Data)': [rmse_train],\n",
        "           'R-squared (Train Data)': [r2_train],\n",
        "           'RMSE (Test Data)': [rmse_test],\n",
        "           'R-squared (Test Data)': [r2_test],\n",
        "           'RMSE (Full Dataset)': [rmse_full],\n",
        "           'R-squared (Full Dataset)': [r2_full]}\n",
        "\n",
        "# Create a DataFrame from the dictionary\n",
        "df_results = pd.DataFrame(metrics)\n",
        "\n",
        "# Display the table\n",
        "print(df_results)"
      ],
      "metadata": {
        "colab": {
          "base_uri": "https://localhost:8080/"
        },
        "id": "mc2eN1d9J-8m",
        "outputId": "801cd588-c4fd-421c-e418-a35e22ef5b1c"
      },
      "execution_count": null,
      "outputs": [
        {
          "output_type": "stream",
          "name": "stdout",
          "text": [
            "           Model  RMSE (Train Data)  R-squared (Train Data)  RMSE (Test Data)  R-squared (Test Data)  RMSE (Full Dataset)  R-squared (Full Dataset)\n",
            "0  Random Forest           1.543565                0.953101          4.048939               0.675227             2.277028                  0.897812\n"
          ]
        }
      ]
    },
    {
      "cell_type": "markdown",
      "source": [
        "### Hyperparameter Tuning"
      ],
      "metadata": {
        "id": "0MKFONTSF9_U"
      }
    },
    {
      "cell_type": "code",
      "source": [
        "# Define the random forest model\n",
        "rf_model = RandomForestRegressor()\n",
        "\n",
        "# # Define the hyperparameter grid to search over\n",
        "# param_grid = {\n",
        "#     'n_estimators': [50, 100, 150],\n",
        "#     'max_depth': [5, 10, 15, None],\n",
        "#     'min_samples_split': [2, 5, 10],\n",
        "#     'min_samples_leaf': [1, 2, 4]\n",
        "# }\n",
        "\n",
        "# # Perform the grid search using 5-fold cross-validation\n",
        "# grid_search = GridSearchCV(estimator=rf_model, param_grid=param_grid, cv=5, n_jobs=-1)\n",
        "\n",
        "# # Fit the grid search to the data\n",
        "# grid_search.fit(X_train, y_train)\n",
        "\n",
        "# # Print the best hyperparameters and corresponding score\n",
        "# print(f\"Best hyperparameters: {grid_search.best_params_}\")\n",
        "# print(f\"Best score: {grid_search.best_score_}\")\n",
        "\n",
        "# Define the hyperparameter distribution to search over\n",
        "# param_dist = {\n",
        "#     'n_estimators': randint(50, 200),\n",
        "#     'max_depth': [5, 10, 15, None],\n",
        "#     'min_samples_split': [2, 5, 10],\n",
        "#     'min_samples_leaf': [1, 2, 4]\n",
        "# }\n",
        "\n",
        "# # Perform the randomized search using 5-fold cross-validation\n",
        "# random_search = RandomizedSearchCV(estimator=rf_model, param_distributions=param_dist, cv=5, n_iter=10, n_jobs=-1)\n",
        "\n",
        "# # Fit the randomized search to the data\n",
        "# random_search.fit(X_train, y_train)\n",
        "\n",
        "# # Print the best hyperparameters and corresponding score\n",
        "# print(f\"Best hyperparameters: {random_search.best_params_}\")\n",
        "# print(f\"Best score: {random_search.best_score_}\")\n",
        "\n",
        "# results of RandomizedSearchCV\n",
        "# Best hyperparameters: {'max_depth': None, 'min_samples_leaf': 4, 'min_samples_split': 5, 'n_estimators': 170}\n",
        "# Best score: 0.6791470727395961"
      ],
      "metadata": {
        "id": "6wC_NBVAFs07"
      },
      "execution_count": null,
      "outputs": []
    },
    {
      "cell_type": "code",
      "source": [
        "# Create a random forest regressor model\n",
        "rf = RandomForestRegressor(random_state=42,\n",
        "                           max_depth= None,\n",
        "                           min_samples_leaf= 4,\n",
        "                           min_samples_split=5,\n",
        "                           n_estimators= 170)\n",
        "\n",
        "# Train the model on the training data\n",
        "rf.fit(X_train_red, y_train)\n",
        "\n",
        "# Make predictions on the testing data\n",
        "y_pred = rf.predict(X_test_red)\n"
      ],
      "metadata": {
        "id": "dPxLkCAY0H7M"
      },
      "execution_count": null,
      "outputs": []
    },
    {
      "cell_type": "code",
      "source": [
        "# Calculate the mean squared error\n",
        "rmse_test = mean_squared_error(y_test, y_pred, squared = False)"
      ],
      "metadata": {
        "id": "pjMf73a00H7M"
      },
      "execution_count": null,
      "outputs": []
    },
    {
      "cell_type": "code",
      "source": [
        "# Calculate the r-squared on test data\n",
        "y_pred = rf.predict(X_test_red)\n",
        "r2_test = r2_score(y_test, y_pred)"
      ],
      "metadata": {
        "id": "6DcFfr9Z0H7N"
      },
      "execution_count": null,
      "outputs": []
    },
    {
      "cell_type": "code",
      "source": [
        "# Make predictions on the training data\n",
        "y_train_pred = rf.predict(X_train_red)\n",
        "\n",
        "# Calculate the R^2 score on the training data\n",
        "r2_train = rf.score(X_train_red, y_train)\n",
        "\n",
        "# Calculate the RMSE on the training data\n",
        "rmse_train = mean_squared_error(y_train, y_train_pred, squared=False)"
      ],
      "metadata": {
        "id": "BvIPgS4gqqH0"
      },
      "execution_count": null,
      "outputs": []
    },
    {
      "cell_type": "code",
      "source": [
        "# Calculate the r-squared and RMSE on total data set\n",
        "X_red = X.drop(columns_to_drop, axis=1).drop(new_columns_to_drop, axis=1)\n",
        "y_pred = rf.predict(X_red)\n",
        "y_true = df['PolyPwr'].values\n",
        "\n",
        "rmse_full = mean_squared_error(y_true, y_pred, squared = False)\n",
        "r2_full = r2_score(y_true, y_pred)"
      ],
      "metadata": {
        "id": "nQqyzeUfcroA"
      },
      "execution_count": null,
      "outputs": []
    },
    {
      "cell_type": "code",
      "source": [
        "# Create a dictionary with the metrics of the new model\n",
        "new_metrics = {'Model': ['Random Forest w/ Hyperparameters Tuning'],\n",
        "               'RMSE (Train Data)': [rmse_train],\n",
        "               'R-squared (Train Data)': [r2_train],\n",
        "               'RMSE (Test Data)': [rmse_test],\n",
        "               'R-squared (Test Data)': [r2_test],\n",
        "               'RMSE (Full Dataset)': [rmse_full],\n",
        "               'R-squared (Full Dataset)': [r2_full]}\n",
        "\n",
        "# Create a DataFrame from the new metrics dictionary\n",
        "df_new_results = pd.DataFrame(new_metrics)\n",
        "\n",
        "# Concatenate the new results with the existing results DataFrame\n",
        "df_results = pd.concat([df_results, df_new_results], ignore_index=True)\n",
        "\n",
        "# Display the updated table\n",
        "print(df_results)"
      ],
      "metadata": {
        "colab": {
          "base_uri": "https://localhost:8080/"
        },
        "id": "tAyjTFQaLmMj",
        "outputId": "fd94dbab-85c3-4940-fe49-8e41d6b5797b"
      },
      "execution_count": null,
      "outputs": [
        {
          "output_type": "stream",
          "name": "stdout",
          "text": [
            "                                     Model  RMSE (Train Data)  R-squared (Train Data)  RMSE (Test Data)  R-squared (Test Data)  RMSE (Full Dataset)  R-squared (Full Dataset)\n",
            "0                            Random Forest           1.543565                0.953101          4.048939               0.675227             2.277028                  0.897812\n",
            "1  Random Forest w/ Hyperparameters Tuning           2.426062                0.884145          4.033884               0.677637             2.821891                  0.843056\n"
          ]
        }
      ]
    },
    {
      "cell_type": "markdown",
      "source": [
        "## LightGBM"
      ],
      "metadata": {
        "id": "buSU8VwaYA4J"
      }
    },
    {
      "cell_type": "code",
      "source": [
        "# Create LightGBM dataset\n",
        "train_data = lgb.Dataset(X_train_red, label=y_train)\n",
        "test_data = lgb.Dataset(X_test_red, label=y_test)\n",
        "\n",
        "# Set hyperparameters for LightGBM model\n",
        "params = {\n",
        "    'objective': 'regression',\n",
        "    'metric': 'rmse',\n",
        "    'num_leaves': 31,\n",
        "    'learning_rate': 0.05,\n",
        "    'feature_fraction': 0.9,\n",
        "    'bagging_fraction': 0.8,\n",
        "    'bagging_freq': 5,\n",
        "    'verbose': -1\n",
        "}\n",
        "\n",
        "# Train LightGBM model\n",
        "model = lgb.train(params, train_data, valid_sets=[test_data], num_boost_round=1000, early_stopping_rounds=50)\n",
        "\n",
        "# Make predictions on test data\n",
        "y_pred = model.predict(X_test_red)"
      ],
      "metadata": {
        "colab": {
          "base_uri": "https://localhost:8080/"
        },
        "id": "-fgQmcApYGkv",
        "outputId": "4d4137bf-08da-4e3a-8b40-60f962e3df6b"
      },
      "execution_count": null,
      "outputs": [
        {
          "output_type": "stream",
          "name": "stdout",
          "text": [
            "[1]\tvalid_0's rmse: 6.92787\n",
            "Training until validation scores don't improve for 50 rounds\n",
            "[2]\tvalid_0's rmse: 6.76474\n",
            "[3]\tvalid_0's rmse: 6.61209\n",
            "[4]\tvalid_0's rmse: 6.47038\n",
            "[5]\tvalid_0's rmse: 6.33919\n",
            "[6]\tvalid_0's rmse: 6.21561\n",
            "[7]\tvalid_0's rmse: 6.10117\n",
            "[8]\tvalid_0's rmse: 5.99336\n",
            "[9]\tvalid_0's rmse: 5.89436\n",
            "[10]\tvalid_0's rmse: 5.80082\n",
            "[11]\tvalid_0's rmse: 5.7102\n",
            "[12]\tvalid_0's rmse: 5.62689\n",
            "[13]\tvalid_0's rmse: 5.5481\n",
            "[14]\tvalid_0's rmse: 5.47592\n",
            "[15]\tvalid_0's rmse: 5.4069\n",
            "[16]\tvalid_0's rmse: 5.34307\n",
            "[17]\tvalid_0's rmse: 5.28193\n",
            "[18]\tvalid_0's rmse: 5.22551\n"
          ]
        },
        {
          "output_type": "stream",
          "name": "stderr",
          "text": [
            "/usr/local/lib/python3.10/dist-packages/lightgbm/engine.py:181: UserWarning: 'early_stopping_rounds' argument is deprecated and will be removed in a future release of LightGBM. Pass 'early_stopping()' callback via 'callbacks' argument instead.\n",
            "  _log_warning(\"'early_stopping_rounds' argument is deprecated and will be removed in a future release of LightGBM. \"\n"
          ]
        },
        {
          "output_type": "stream",
          "name": "stdout",
          "text": [
            "[19]\tvalid_0's rmse: 5.17161\n",
            "[20]\tvalid_0's rmse: 5.12286\n",
            "[21]\tvalid_0's rmse: 5.07973\n",
            "[22]\tvalid_0's rmse: 5.03737\n",
            "[23]\tvalid_0's rmse: 4.99879\n",
            "[24]\tvalid_0's rmse: 4.96021\n",
            "[25]\tvalid_0's rmse: 4.92678\n",
            "[26]\tvalid_0's rmse: 4.89414\n",
            "[27]\tvalid_0's rmse: 4.86133\n",
            "[28]\tvalid_0's rmse: 4.83035\n",
            "[29]\tvalid_0's rmse: 4.80195\n",
            "[30]\tvalid_0's rmse: 4.77282\n",
            "[31]\tvalid_0's rmse: 4.74744\n",
            "[32]\tvalid_0's rmse: 4.72054\n",
            "[33]\tvalid_0's rmse: 4.69534\n",
            "[34]\tvalid_0's rmse: 4.67587\n",
            "[35]\tvalid_0's rmse: 4.65523\n",
            "[36]\tvalid_0's rmse: 4.63499\n",
            "[37]\tvalid_0's rmse: 4.61916\n",
            "[38]\tvalid_0's rmse: 4.60271\n",
            "[39]\tvalid_0's rmse: 4.58587\n",
            "[40]\tvalid_0's rmse: 4.56982\n",
            "[41]\tvalid_0's rmse: 4.55595\n",
            "[42]\tvalid_0's rmse: 4.54119\n",
            "[43]\tvalid_0's rmse: 4.52956\n",
            "[44]\tvalid_0's rmse: 4.51788\n",
            "[45]\tvalid_0's rmse: 4.50618\n",
            "[46]\tvalid_0's rmse: 4.49472\n",
            "[47]\tvalid_0's rmse: 4.48457\n",
            "[48]\tvalid_0's rmse: 4.47289\n",
            "[49]\tvalid_0's rmse: 4.46194\n",
            "[50]\tvalid_0's rmse: 4.45071\n",
            "[51]\tvalid_0's rmse: 4.44076\n",
            "[52]\tvalid_0's rmse: 4.4293\n",
            "[53]\tvalid_0's rmse: 4.42136\n",
            "[54]\tvalid_0's rmse: 4.41212\n",
            "[55]\tvalid_0's rmse: 4.40302\n",
            "[56]\tvalid_0's rmse: 4.39648\n",
            "[57]\tvalid_0's rmse: 4.38733\n",
            "[58]\tvalid_0's rmse: 4.37954\n",
            "[59]\tvalid_0's rmse: 4.37074\n",
            "[60]\tvalid_0's rmse: 4.36259\n",
            "[61]\tvalid_0's rmse: 4.3566\n",
            "[62]\tvalid_0's rmse: 4.34675\n",
            "[63]\tvalid_0's rmse: 4.34032\n",
            "[64]\tvalid_0's rmse: 4.33148\n",
            "[65]\tvalid_0's rmse: 4.32497\n",
            "[66]\tvalid_0's rmse: 4.31982\n",
            "[67]\tvalid_0's rmse: 4.31442\n",
            "[68]\tvalid_0's rmse: 4.30776\n",
            "[69]\tvalid_0's rmse: 4.2995\n",
            "[70]\tvalid_0's rmse: 4.29525\n",
            "[71]\tvalid_0's rmse: 4.28534\n",
            "[72]\tvalid_0's rmse: 4.27645\n",
            "[73]\tvalid_0's rmse: 4.27134\n",
            "[74]\tvalid_0's rmse: 4.26646\n",
            "[75]\tvalid_0's rmse: 4.26101\n",
            "[76]\tvalid_0's rmse: 4.25743\n",
            "[77]\tvalid_0's rmse: 4.25427\n",
            "[78]\tvalid_0's rmse: 4.25031\n",
            "[79]\tvalid_0's rmse: 4.24595\n",
            "[80]\tvalid_0's rmse: 4.2427\n",
            "[81]\tvalid_0's rmse: 4.23837\n",
            "[82]\tvalid_0's rmse: 4.23415\n",
            "[83]\tvalid_0's rmse: 4.22724\n",
            "[84]\tvalid_0's rmse: 4.22443\n",
            "[85]\tvalid_0's rmse: 4.21954\n",
            "[86]\tvalid_0's rmse: 4.21713\n",
            "[87]\tvalid_0's rmse: 4.21322\n",
            "[88]\tvalid_0's rmse: 4.20744\n",
            "[89]\tvalid_0's rmse: 4.20533\n",
            "[90]\tvalid_0's rmse: 4.20111\n",
            "[91]\tvalid_0's rmse: 4.19666\n",
            "[92]\tvalid_0's rmse: 4.19225\n",
            "[93]\tvalid_0's rmse: 4.18967\n",
            "[94]\tvalid_0's rmse: 4.1853\n",
            "[95]\tvalid_0's rmse: 4.18134\n",
            "[96]\tvalid_0's rmse: 4.17707\n",
            "[97]\tvalid_0's rmse: 4.1727\n",
            "[98]\tvalid_0's rmse: 4.16891\n",
            "[99]\tvalid_0's rmse: 4.16485\n",
            "[100]\tvalid_0's rmse: 4.16231\n",
            "[101]\tvalid_0's rmse: 4.15989\n",
            "[102]\tvalid_0's rmse: 4.1582\n",
            "[103]\tvalid_0's rmse: 4.1546\n",
            "[104]\tvalid_0's rmse: 4.15174\n",
            "[105]\tvalid_0's rmse: 4.14986\n",
            "[106]\tvalid_0's rmse: 4.14767\n",
            "[107]\tvalid_0's rmse: 4.14454\n",
            "[108]\tvalid_0's rmse: 4.14147\n",
            "[109]\tvalid_0's rmse: 4.14098\n",
            "[110]\tvalid_0's rmse: 4.14068\n",
            "[111]\tvalid_0's rmse: 4.13972\n",
            "[112]\tvalid_0's rmse: 4.13846\n",
            "[113]\tvalid_0's rmse: 4.1367\n",
            "[114]\tvalid_0's rmse: 4.13443\n",
            "[115]\tvalid_0's rmse: 4.13375\n",
            "[116]\tvalid_0's rmse: 4.1309\n",
            "[117]\tvalid_0's rmse: 4.12967\n",
            "[118]\tvalid_0's rmse: 4.12759\n",
            "[119]\tvalid_0's rmse: 4.1265\n",
            "[120]\tvalid_0's rmse: 4.12417\n",
            "[121]\tvalid_0's rmse: 4.1215\n",
            "[122]\tvalid_0's rmse: 4.12114\n",
            "[123]\tvalid_0's rmse: 4.12014\n",
            "[124]\tvalid_0's rmse: 4.11927\n",
            "[125]\tvalid_0's rmse: 4.11782\n",
            "[126]\tvalid_0's rmse: 4.11556\n",
            "[127]\tvalid_0's rmse: 4.11341\n",
            "[128]\tvalid_0's rmse: 4.11188\n",
            "[129]\tvalid_0's rmse: 4.11021\n",
            "[130]\tvalid_0's rmse: 4.11032\n",
            "[131]\tvalid_0's rmse: 4.10812\n",
            "[132]\tvalid_0's rmse: 4.10612\n",
            "[133]\tvalid_0's rmse: 4.1047\n",
            "[134]\tvalid_0's rmse: 4.10197\n",
            "[135]\tvalid_0's rmse: 4.10098\n",
            "[136]\tvalid_0's rmse: 4.09886\n",
            "[137]\tvalid_0's rmse: 4.09857\n",
            "[138]\tvalid_0's rmse: 4.09813\n",
            "[139]\tvalid_0's rmse: 4.09695\n",
            "[140]\tvalid_0's rmse: 4.09563\n",
            "[141]\tvalid_0's rmse: 4.09453\n",
            "[142]\tvalid_0's rmse: 4.09474\n",
            "[143]\tvalid_0's rmse: 4.09276\n",
            "[144]\tvalid_0's rmse: 4.09201\n",
            "[145]\tvalid_0's rmse: 4.09042\n",
            "[146]\tvalid_0's rmse: 4.08807\n",
            "[147]\tvalid_0's rmse: 4.08621\n",
            "[148]\tvalid_0's rmse: 4.08409\n",
            "[149]\tvalid_0's rmse: 4.08299\n",
            "[150]\tvalid_0's rmse: 4.08132\n",
            "[151]\tvalid_0's rmse: 4.08126\n",
            "[152]\tvalid_0's rmse: 4.0797\n",
            "[153]\tvalid_0's rmse: 4.07795\n",
            "[154]\tvalid_0's rmse: 4.07619\n",
            "[155]\tvalid_0's rmse: 4.07554\n",
            "[156]\tvalid_0's rmse: 4.07348\n",
            "[157]\tvalid_0's rmse: 4.07251\n",
            "[158]\tvalid_0's rmse: 4.06978\n",
            "[159]\tvalid_0's rmse: 4.06898\n",
            "[160]\tvalid_0's rmse: 4.0682\n",
            "[161]\tvalid_0's rmse: 4.06786\n",
            "[162]\tvalid_0's rmse: 4.06767\n",
            "[163]\tvalid_0's rmse: 4.06687\n",
            "[164]\tvalid_0's rmse: 4.06588\n",
            "[165]\tvalid_0's rmse: 4.06477\n",
            "[166]\tvalid_0's rmse: 4.06315\n",
            "[167]\tvalid_0's rmse: 4.06216\n",
            "[168]\tvalid_0's rmse: 4.06157\n",
            "[169]\tvalid_0's rmse: 4.06013\n",
            "[170]\tvalid_0's rmse: 4.06026\n",
            "[171]\tvalid_0's rmse: 4.05921\n",
            "[172]\tvalid_0's rmse: 4.05845\n",
            "[173]\tvalid_0's rmse: 4.05752\n",
            "[174]\tvalid_0's rmse: 4.05703\n",
            "[175]\tvalid_0's rmse: 4.0552\n",
            "[176]\tvalid_0's rmse: 4.05398\n",
            "[177]\tvalid_0's rmse: 4.05341\n",
            "[178]\tvalid_0's rmse: 4.05247\n",
            "[179]\tvalid_0's rmse: 4.05191\n",
            "[180]\tvalid_0's rmse: 4.05191\n",
            "[181]\tvalid_0's rmse: 4.05092\n",
            "[182]\tvalid_0's rmse: 4.05023\n",
            "[183]\tvalid_0's rmse: 4.04976\n",
            "[184]\tvalid_0's rmse: 4.04784\n",
            "[185]\tvalid_0's rmse: 4.0465\n",
            "[186]\tvalid_0's rmse: 4.04538\n",
            "[187]\tvalid_0's rmse: 4.04534\n",
            "[188]\tvalid_0's rmse: 4.04439\n",
            "[189]\tvalid_0's rmse: 4.0433\n",
            "[190]\tvalid_0's rmse: 4.04325\n",
            "[191]\tvalid_0's rmse: 4.04268\n",
            "[192]\tvalid_0's rmse: 4.04251\n",
            "[193]\tvalid_0's rmse: 4.04229\n",
            "[194]\tvalid_0's rmse: 4.04098\n",
            "[195]\tvalid_0's rmse: 4.04039\n",
            "[196]\tvalid_0's rmse: 4.04\n",
            "[197]\tvalid_0's rmse: 4.04012\n",
            "[198]\tvalid_0's rmse: 4.03998\n",
            "[199]\tvalid_0's rmse: 4.03941\n",
            "[200]\tvalid_0's rmse: 4.03938\n",
            "[201]\tvalid_0's rmse: 4.03893\n",
            "[202]\tvalid_0's rmse: 4.03907\n",
            "[203]\tvalid_0's rmse: 4.03782\n",
            "[204]\tvalid_0's rmse: 4.03788\n",
            "[205]\tvalid_0's rmse: 4.03732\n",
            "[206]\tvalid_0's rmse: 4.03713\n",
            "[207]\tvalid_0's rmse: 4.03708\n",
            "[208]\tvalid_0's rmse: 4.03715\n",
            "[209]\tvalid_0's rmse: 4.03604\n",
            "[210]\tvalid_0's rmse: 4.03567\n",
            "[211]\tvalid_0's rmse: 4.0351\n",
            "[212]\tvalid_0's rmse: 4.03392\n",
            "[213]\tvalid_0's rmse: 4.03348\n",
            "[214]\tvalid_0's rmse: 4.03376\n",
            "[215]\tvalid_0's rmse: 4.0327\n",
            "[216]\tvalid_0's rmse: 4.03197\n",
            "[217]\tvalid_0's rmse: 4.03147\n",
            "[218]\tvalid_0's rmse: 4.03126\n",
            "[219]\tvalid_0's rmse: 4.03031\n",
            "[220]\tvalid_0's rmse: 4.02902\n",
            "[221]\tvalid_0's rmse: 4.0284\n",
            "[222]\tvalid_0's rmse: 4.02793\n",
            "[223]\tvalid_0's rmse: 4.02779\n",
            "[224]\tvalid_0's rmse: 4.02735\n",
            "[225]\tvalid_0's rmse: 4.02834\n",
            "[226]\tvalid_0's rmse: 4.02766\n",
            "[227]\tvalid_0's rmse: 4.02739\n",
            "[228]\tvalid_0's rmse: 4.02737\n",
            "[229]\tvalid_0's rmse: 4.02677\n",
            "[230]\tvalid_0's rmse: 4.02679\n",
            "[231]\tvalid_0's rmse: 4.02606\n",
            "[232]\tvalid_0's rmse: 4.02521\n",
            "[233]\tvalid_0's rmse: 4.02443\n",
            "[234]\tvalid_0's rmse: 4.02312\n",
            "[235]\tvalid_0's rmse: 4.02209\n",
            "[236]\tvalid_0's rmse: 4.02138\n",
            "[237]\tvalid_0's rmse: 4.02033\n",
            "[238]\tvalid_0's rmse: 4.0195\n",
            "[239]\tvalid_0's rmse: 4.01916\n",
            "[240]\tvalid_0's rmse: 4.01814\n",
            "[241]\tvalid_0's rmse: 4.01825\n",
            "[242]\tvalid_0's rmse: 4.01673\n",
            "[243]\tvalid_0's rmse: 4.01656\n",
            "[244]\tvalid_0's rmse: 4.01652\n",
            "[245]\tvalid_0's rmse: 4.01621\n",
            "[246]\tvalid_0's rmse: 4.01511\n",
            "[247]\tvalid_0's rmse: 4.01503\n",
            "[248]\tvalid_0's rmse: 4.01306\n",
            "[249]\tvalid_0's rmse: 4.01284\n",
            "[250]\tvalid_0's rmse: 4.01286\n",
            "[251]\tvalid_0's rmse: 4.01286\n",
            "[252]\tvalid_0's rmse: 4.01259\n",
            "[253]\tvalid_0's rmse: 4.01201\n",
            "[254]\tvalid_0's rmse: 4.01222\n",
            "[255]\tvalid_0's rmse: 4.01208\n",
            "[256]\tvalid_0's rmse: 4.01209\n",
            "[257]\tvalid_0's rmse: 4.01254\n",
            "[258]\tvalid_0's rmse: 4.01201\n",
            "[259]\tvalid_0's rmse: 4.01173\n",
            "[260]\tvalid_0's rmse: 4.01162\n",
            "[261]\tvalid_0's rmse: 4.01063\n",
            "[262]\tvalid_0's rmse: 4.0109\n",
            "[263]\tvalid_0's rmse: 4.01079\n",
            "[264]\tvalid_0's rmse: 4.00964\n",
            "[265]\tvalid_0's rmse: 4.00922\n",
            "[266]\tvalid_0's rmse: 4.00927\n",
            "[267]\tvalid_0's rmse: 4.00975\n",
            "[268]\tvalid_0's rmse: 4.00963\n",
            "[269]\tvalid_0's rmse: 4.00908\n",
            "[270]\tvalid_0's rmse: 4.00839\n",
            "[271]\tvalid_0's rmse: 4.00847\n",
            "[272]\tvalid_0's rmse: 4.00767\n",
            "[273]\tvalid_0's rmse: 4.00752\n",
            "[274]\tvalid_0's rmse: 4.00785\n",
            "[275]\tvalid_0's rmse: 4.00709\n",
            "[276]\tvalid_0's rmse: 4.00653\n",
            "[277]\tvalid_0's rmse: 4.00612\n",
            "[278]\tvalid_0's rmse: 4.00562\n",
            "[279]\tvalid_0's rmse: 4.00454\n",
            "[280]\tvalid_0's rmse: 4.00446\n",
            "[281]\tvalid_0's rmse: 4.00477\n",
            "[282]\tvalid_0's rmse: 4.00466\n",
            "[283]\tvalid_0's rmse: 4.00386\n",
            "[284]\tvalid_0's rmse: 4.00409\n",
            "[285]\tvalid_0's rmse: 4.00363\n",
            "[286]\tvalid_0's rmse: 4.00301\n",
            "[287]\tvalid_0's rmse: 4.00309\n",
            "[288]\tvalid_0's rmse: 4.00287\n",
            "[289]\tvalid_0's rmse: 4.00238\n",
            "[290]\tvalid_0's rmse: 4.00211\n",
            "[291]\tvalid_0's rmse: 4.00084\n",
            "[292]\tvalid_0's rmse: 4.00034\n",
            "[293]\tvalid_0's rmse: 4.0002\n",
            "[294]\tvalid_0's rmse: 4.00025\n",
            "[295]\tvalid_0's rmse: 4.00059\n",
            "[296]\tvalid_0's rmse: 3.99939\n",
            "[297]\tvalid_0's rmse: 3.99896\n",
            "[298]\tvalid_0's rmse: 3.99877\n",
            "[299]\tvalid_0's rmse: 3.99878\n",
            "[300]\tvalid_0's rmse: 3.99904\n",
            "[301]\tvalid_0's rmse: 3.99869\n",
            "[302]\tvalid_0's rmse: 3.99843\n",
            "[303]\tvalid_0's rmse: 3.99793\n",
            "[304]\tvalid_0's rmse: 3.99753\n",
            "[305]\tvalid_0's rmse: 3.99748\n",
            "[306]\tvalid_0's rmse: 3.99722\n",
            "[307]\tvalid_0's rmse: 3.99727\n",
            "[308]\tvalid_0's rmse: 3.99707\n",
            "[309]\tvalid_0's rmse: 3.99665\n",
            "[310]\tvalid_0's rmse: 3.99559\n",
            "[311]\tvalid_0's rmse: 3.99533\n",
            "[312]\tvalid_0's rmse: 3.99473\n",
            "[313]\tvalid_0's rmse: 3.99489\n",
            "[314]\tvalid_0's rmse: 3.99445\n",
            "[315]\tvalid_0's rmse: 3.99285\n",
            "[316]\tvalid_0's rmse: 3.99218\n",
            "[317]\tvalid_0's rmse: 3.99163\n",
            "[318]\tvalid_0's rmse: 3.9917\n",
            "[319]\tvalid_0's rmse: 3.99147\n",
            "[320]\tvalid_0's rmse: 3.99175\n",
            "[321]\tvalid_0's rmse: 3.99223\n",
            "[322]\tvalid_0's rmse: 3.99259\n",
            "[323]\tvalid_0's rmse: 3.99323\n",
            "[324]\tvalid_0's rmse: 3.99255\n",
            "[325]\tvalid_0's rmse: 3.9925\n",
            "[326]\tvalid_0's rmse: 3.99278\n",
            "[327]\tvalid_0's rmse: 3.99248\n",
            "[328]\tvalid_0's rmse: 3.99231\n",
            "[329]\tvalid_0's rmse: 3.99224\n",
            "[330]\tvalid_0's rmse: 3.99243\n",
            "[331]\tvalid_0's rmse: 3.99213\n",
            "[332]\tvalid_0's rmse: 3.9924\n",
            "[333]\tvalid_0's rmse: 3.99207\n",
            "[334]\tvalid_0's rmse: 3.99173\n",
            "[335]\tvalid_0's rmse: 3.9915\n",
            "[336]\tvalid_0's rmse: 3.99131\n",
            "[337]\tvalid_0's rmse: 3.9914\n",
            "[338]\tvalid_0's rmse: 3.99155\n",
            "[339]\tvalid_0's rmse: 3.99125\n",
            "[340]\tvalid_0's rmse: 3.99127\n",
            "[341]\tvalid_0's rmse: 3.99033\n",
            "[342]\tvalid_0's rmse: 3.9906\n",
            "[343]\tvalid_0's rmse: 3.99014\n",
            "[344]\tvalid_0's rmse: 3.9903\n",
            "[345]\tvalid_0's rmse: 3.99001\n",
            "[346]\tvalid_0's rmse: 3.98932\n",
            "[347]\tvalid_0's rmse: 3.98878\n",
            "[348]\tvalid_0's rmse: 3.98862\n",
            "[349]\tvalid_0's rmse: 3.988\n",
            "[350]\tvalid_0's rmse: 3.98741\n",
            "[351]\tvalid_0's rmse: 3.98672\n",
            "[352]\tvalid_0's rmse: 3.98673\n",
            "[353]\tvalid_0's rmse: 3.98705\n",
            "[354]\tvalid_0's rmse: 3.9871\n",
            "[355]\tvalid_0's rmse: 3.98648\n",
            "[356]\tvalid_0's rmse: 3.98666\n",
            "[357]\tvalid_0's rmse: 3.98673\n",
            "[358]\tvalid_0's rmse: 3.9868\n",
            "[359]\tvalid_0's rmse: 3.9861\n",
            "[360]\tvalid_0's rmse: 3.98624\n",
            "[361]\tvalid_0's rmse: 3.98566\n",
            "[362]\tvalid_0's rmse: 3.98575\n",
            "[363]\tvalid_0's rmse: 3.98562\n",
            "[364]\tvalid_0's rmse: 3.9862\n",
            "[365]\tvalid_0's rmse: 3.98614\n",
            "[366]\tvalid_0's rmse: 3.98618\n",
            "[367]\tvalid_0's rmse: 3.9871\n",
            "[368]\tvalid_0's rmse: 3.98854\n",
            "[369]\tvalid_0's rmse: 3.98877\n",
            "[370]\tvalid_0's rmse: 3.98963\n",
            "[371]\tvalid_0's rmse: 3.98994\n",
            "[372]\tvalid_0's rmse: 3.9899\n",
            "[373]\tvalid_0's rmse: 3.98858\n",
            "[374]\tvalid_0's rmse: 3.98861\n",
            "[375]\tvalid_0's rmse: 3.98742\n",
            "[376]\tvalid_0's rmse: 3.98693\n",
            "[377]\tvalid_0's rmse: 3.98684\n",
            "[378]\tvalid_0's rmse: 3.98692\n",
            "[379]\tvalid_0's rmse: 3.98678\n",
            "[380]\tvalid_0's rmse: 3.98705\n",
            "[381]\tvalid_0's rmse: 3.98653\n",
            "[382]\tvalid_0's rmse: 3.98649\n",
            "[383]\tvalid_0's rmse: 3.98629\n",
            "[384]\tvalid_0's rmse: 3.98594\n",
            "[385]\tvalid_0's rmse: 3.98569\n",
            "[386]\tvalid_0's rmse: 3.98584\n",
            "[387]\tvalid_0's rmse: 3.98606\n",
            "[388]\tvalid_0's rmse: 3.9863\n",
            "[389]\tvalid_0's rmse: 3.98595\n",
            "[390]\tvalid_0's rmse: 3.98571\n",
            "[391]\tvalid_0's rmse: 3.98587\n",
            "[392]\tvalid_0's rmse: 3.98633\n",
            "[393]\tvalid_0's rmse: 3.98635\n",
            "[394]\tvalid_0's rmse: 3.98592\n",
            "[395]\tvalid_0's rmse: 3.9861\n",
            "[396]\tvalid_0's rmse: 3.98584\n",
            "[397]\tvalid_0's rmse: 3.98601\n",
            "[398]\tvalid_0's rmse: 3.98516\n",
            "[399]\tvalid_0's rmse: 3.98514\n",
            "[400]\tvalid_0's rmse: 3.98506\n",
            "[401]\tvalid_0's rmse: 3.98501\n",
            "[402]\tvalid_0's rmse: 3.98493\n",
            "[403]\tvalid_0's rmse: 3.98454\n",
            "[404]\tvalid_0's rmse: 3.98484\n",
            "[405]\tvalid_0's rmse: 3.98477\n",
            "[406]\tvalid_0's rmse: 3.98442\n",
            "[407]\tvalid_0's rmse: 3.98471\n",
            "[408]\tvalid_0's rmse: 3.98468\n",
            "[409]\tvalid_0's rmse: 3.98382\n",
            "[410]\tvalid_0's rmse: 3.98318\n",
            "[411]\tvalid_0's rmse: 3.98301\n",
            "[412]\tvalid_0's rmse: 3.98314\n",
            "[413]\tvalid_0's rmse: 3.98266\n",
            "[414]\tvalid_0's rmse: 3.98226\n",
            "[415]\tvalid_0's rmse: 3.98273\n",
            "[416]\tvalid_0's rmse: 3.98276\n",
            "[417]\tvalid_0's rmse: 3.9818\n",
            "[418]\tvalid_0's rmse: 3.98193\n",
            "[419]\tvalid_0's rmse: 3.98192\n",
            "[420]\tvalid_0's rmse: 3.98165\n",
            "[421]\tvalid_0's rmse: 3.98201\n",
            "[422]\tvalid_0's rmse: 3.98195\n",
            "[423]\tvalid_0's rmse: 3.98185\n",
            "[424]\tvalid_0's rmse: 3.98089\n",
            "[425]\tvalid_0's rmse: 3.98012\n",
            "[426]\tvalid_0's rmse: 3.98023\n",
            "[427]\tvalid_0's rmse: 3.98012\n",
            "[428]\tvalid_0's rmse: 3.9801\n",
            "[429]\tvalid_0's rmse: 3.98041\n",
            "[430]\tvalid_0's rmse: 3.97994\n",
            "[431]\tvalid_0's rmse: 3.9793\n",
            "[432]\tvalid_0's rmse: 3.97903\n",
            "[433]\tvalid_0's rmse: 3.97886\n",
            "[434]\tvalid_0's rmse: 3.97831\n",
            "[435]\tvalid_0's rmse: 3.97804\n",
            "[436]\tvalid_0's rmse: 3.97804\n",
            "[437]\tvalid_0's rmse: 3.97752\n",
            "[438]\tvalid_0's rmse: 3.97777\n",
            "[439]\tvalid_0's rmse: 3.9782\n",
            "[440]\tvalid_0's rmse: 3.97785\n",
            "[441]\tvalid_0's rmse: 3.97826\n",
            "[442]\tvalid_0's rmse: 3.97869\n",
            "[443]\tvalid_0's rmse: 3.97884\n",
            "[444]\tvalid_0's rmse: 3.97934\n",
            "[445]\tvalid_0's rmse: 3.97958\n",
            "[446]\tvalid_0's rmse: 3.97965\n",
            "[447]\tvalid_0's rmse: 3.98013\n",
            "[448]\tvalid_0's rmse: 3.98019\n",
            "[449]\tvalid_0's rmse: 3.98043\n",
            "[450]\tvalid_0's rmse: 3.9799\n",
            "[451]\tvalid_0's rmse: 3.97928\n",
            "[452]\tvalid_0's rmse: 3.97989\n",
            "[453]\tvalid_0's rmse: 3.97969\n",
            "[454]\tvalid_0's rmse: 3.98012\n",
            "[455]\tvalid_0's rmse: 3.97935\n",
            "[456]\tvalid_0's rmse: 3.97942\n",
            "[457]\tvalid_0's rmse: 3.97852\n",
            "[458]\tvalid_0's rmse: 3.97826\n",
            "[459]\tvalid_0's rmse: 3.9779\n",
            "[460]\tvalid_0's rmse: 3.9775\n",
            "[461]\tvalid_0's rmse: 3.9772\n",
            "[462]\tvalid_0's rmse: 3.97691\n",
            "[463]\tvalid_0's rmse: 3.97751\n",
            "[464]\tvalid_0's rmse: 3.97743\n",
            "[465]\tvalid_0's rmse: 3.97719\n",
            "[466]\tvalid_0's rmse: 3.97676\n",
            "[467]\tvalid_0's rmse: 3.9763\n",
            "[468]\tvalid_0's rmse: 3.9761\n",
            "[469]\tvalid_0's rmse: 3.97648\n",
            "[470]\tvalid_0's rmse: 3.97585\n",
            "[471]\tvalid_0's rmse: 3.97553\n",
            "[472]\tvalid_0's rmse: 3.97594\n",
            "[473]\tvalid_0's rmse: 3.97645\n",
            "[474]\tvalid_0's rmse: 3.97654\n",
            "[475]\tvalid_0's rmse: 3.97646\n",
            "[476]\tvalid_0's rmse: 3.97543\n",
            "[477]\tvalid_0's rmse: 3.97471\n",
            "[478]\tvalid_0's rmse: 3.97457\n",
            "[479]\tvalid_0's rmse: 3.97503\n",
            "[480]\tvalid_0's rmse: 3.97458\n",
            "[481]\tvalid_0's rmse: 3.97479\n",
            "[482]\tvalid_0's rmse: 3.97483\n",
            "[483]\tvalid_0's rmse: 3.97438\n",
            "[484]\tvalid_0's rmse: 3.97394\n",
            "[485]\tvalid_0's rmse: 3.97439\n",
            "[486]\tvalid_0's rmse: 3.97435\n",
            "[487]\tvalid_0's rmse: 3.97406\n",
            "[488]\tvalid_0's rmse: 3.97357\n",
            "[489]\tvalid_0's rmse: 3.97335\n",
            "[490]\tvalid_0's rmse: 3.97327\n",
            "[491]\tvalid_0's rmse: 3.97345\n",
            "[492]\tvalid_0's rmse: 3.97404\n",
            "[493]\tvalid_0's rmse: 3.97413\n",
            "[494]\tvalid_0's rmse: 3.9743\n",
            "[495]\tvalid_0's rmse: 3.97434\n",
            "[496]\tvalid_0's rmse: 3.97431\n",
            "[497]\tvalid_0's rmse: 3.97399\n",
            "[498]\tvalid_0's rmse: 3.97377\n",
            "[499]\tvalid_0's rmse: 3.97357\n",
            "[500]\tvalid_0's rmse: 3.97267\n",
            "[501]\tvalid_0's rmse: 3.97285\n",
            "[502]\tvalid_0's rmse: 3.97248\n",
            "[503]\tvalid_0's rmse: 3.97266\n",
            "[504]\tvalid_0's rmse: 3.97132\n",
            "[505]\tvalid_0's rmse: 3.97148\n",
            "[506]\tvalid_0's rmse: 3.9714\n",
            "[507]\tvalid_0's rmse: 3.97161\n",
            "[508]\tvalid_0's rmse: 3.97202\n",
            "[509]\tvalid_0's rmse: 3.97191\n",
            "[510]\tvalid_0's rmse: 3.97221\n",
            "[511]\tvalid_0's rmse: 3.97208\n",
            "[512]\tvalid_0's rmse: 3.97189\n",
            "[513]\tvalid_0's rmse: 3.97117\n",
            "[514]\tvalid_0's rmse: 3.9713\n",
            "[515]\tvalid_0's rmse: 3.97104\n",
            "[516]\tvalid_0's rmse: 3.97123\n",
            "[517]\tvalid_0's rmse: 3.97123\n",
            "[518]\tvalid_0's rmse: 3.97163\n",
            "[519]\tvalid_0's rmse: 3.97198\n",
            "[520]\tvalid_0's rmse: 3.97228\n",
            "[521]\tvalid_0's rmse: 3.97243\n",
            "[522]\tvalid_0's rmse: 3.97217\n",
            "[523]\tvalid_0's rmse: 3.97237\n",
            "[524]\tvalid_0's rmse: 3.97188\n",
            "[525]\tvalid_0's rmse: 3.97235\n",
            "[526]\tvalid_0's rmse: 3.97213\n",
            "[527]\tvalid_0's rmse: 3.97148\n",
            "[528]\tvalid_0's rmse: 3.97162\n",
            "[529]\tvalid_0's rmse: 3.97141\n",
            "[530]\tvalid_0's rmse: 3.97092\n",
            "[531]\tvalid_0's rmse: 3.97064\n",
            "[532]\tvalid_0's rmse: 3.97048\n",
            "[533]\tvalid_0's rmse: 3.97105\n",
            "[534]\tvalid_0's rmse: 3.97052\n",
            "[535]\tvalid_0's rmse: 3.96987\n",
            "[536]\tvalid_0's rmse: 3.96984\n",
            "[537]\tvalid_0's rmse: 3.96971\n",
            "[538]\tvalid_0's rmse: 3.96983\n",
            "[539]\tvalid_0's rmse: 3.96966\n",
            "[540]\tvalid_0's rmse: 3.96964\n",
            "[541]\tvalid_0's rmse: 3.96979\n",
            "[542]\tvalid_0's rmse: 3.96964\n",
            "[543]\tvalid_0's rmse: 3.96978\n",
            "[544]\tvalid_0's rmse: 3.96957\n",
            "[545]\tvalid_0's rmse: 3.96966\n",
            "[546]\tvalid_0's rmse: 3.96988\n",
            "[547]\tvalid_0's rmse: 3.96933\n",
            "[548]\tvalid_0's rmse: 3.96918\n",
            "[549]\tvalid_0's rmse: 3.96933\n",
            "[550]\tvalid_0's rmse: 3.96933\n",
            "[551]\tvalid_0's rmse: 3.96909\n",
            "[552]\tvalid_0's rmse: 3.96878\n",
            "[553]\tvalid_0's rmse: 3.96904\n",
            "[554]\tvalid_0's rmse: 3.96864\n",
            "[555]\tvalid_0's rmse: 3.968\n",
            "[556]\tvalid_0's rmse: 3.96804\n",
            "[557]\tvalid_0's rmse: 3.96814\n",
            "[558]\tvalid_0's rmse: 3.96775\n",
            "[559]\tvalid_0's rmse: 3.96753\n",
            "[560]\tvalid_0's rmse: 3.96755\n",
            "[561]\tvalid_0's rmse: 3.96705\n",
            "[562]\tvalid_0's rmse: 3.96681\n",
            "[563]\tvalid_0's rmse: 3.96626\n",
            "[564]\tvalid_0's rmse: 3.96586\n",
            "[565]\tvalid_0's rmse: 3.96568\n",
            "[566]\tvalid_0's rmse: 3.96581\n",
            "[567]\tvalid_0's rmse: 3.96639\n",
            "[568]\tvalid_0's rmse: 3.96611\n",
            "[569]\tvalid_0's rmse: 3.96596\n",
            "[570]\tvalid_0's rmse: 3.96674\n",
            "[571]\tvalid_0's rmse: 3.96676\n",
            "[572]\tvalid_0's rmse: 3.96714\n",
            "[573]\tvalid_0's rmse: 3.96661\n",
            "[574]\tvalid_0's rmse: 3.96631\n",
            "[575]\tvalid_0's rmse: 3.96674\n",
            "[576]\tvalid_0's rmse: 3.96697\n",
            "[577]\tvalid_0's rmse: 3.96723\n",
            "[578]\tvalid_0's rmse: 3.96704\n",
            "[579]\tvalid_0's rmse: 3.96703\n",
            "[580]\tvalid_0's rmse: 3.96681\n",
            "[581]\tvalid_0's rmse: 3.96703\n",
            "[582]\tvalid_0's rmse: 3.96657\n",
            "[583]\tvalid_0's rmse: 3.96524\n",
            "[584]\tvalid_0's rmse: 3.96504\n",
            "[585]\tvalid_0's rmse: 3.96509\n",
            "[586]\tvalid_0's rmse: 3.96505\n",
            "[587]\tvalid_0's rmse: 3.96509\n",
            "[588]\tvalid_0's rmse: 3.96381\n",
            "[589]\tvalid_0's rmse: 3.96298\n",
            "[590]\tvalid_0's rmse: 3.96249\n",
            "[591]\tvalid_0's rmse: 3.9618\n",
            "[592]\tvalid_0's rmse: 3.96198\n",
            "[593]\tvalid_0's rmse: 3.96196\n",
            "[594]\tvalid_0's rmse: 3.96204\n",
            "[595]\tvalid_0's rmse: 3.96183\n",
            "[596]\tvalid_0's rmse: 3.96144\n",
            "[597]\tvalid_0's rmse: 3.96116\n",
            "[598]\tvalid_0's rmse: 3.96057\n",
            "[599]\tvalid_0's rmse: 3.95996\n",
            "[600]\tvalid_0's rmse: 3.96014\n",
            "[601]\tvalid_0's rmse: 3.9607\n",
            "[602]\tvalid_0's rmse: 3.96086\n",
            "[603]\tvalid_0's rmse: 3.96012\n",
            "[604]\tvalid_0's rmse: 3.96024\n",
            "[605]\tvalid_0's rmse: 3.96047\n",
            "[606]\tvalid_0's rmse: 3.96094\n",
            "[607]\tvalid_0's rmse: 3.96109\n",
            "[608]\tvalid_0's rmse: 3.96124\n",
            "[609]\tvalid_0's rmse: 3.9611\n",
            "[610]\tvalid_0's rmse: 3.96111\n",
            "[611]\tvalid_0's rmse: 3.96109\n",
            "[612]\tvalid_0's rmse: 3.9616\n",
            "[613]\tvalid_0's rmse: 3.96201\n",
            "[614]\tvalid_0's rmse: 3.96199\n",
            "[615]\tvalid_0's rmse: 3.96284\n",
            "[616]\tvalid_0's rmse: 3.9626\n",
            "[617]\tvalid_0's rmse: 3.96266\n",
            "[618]\tvalid_0's rmse: 3.96221\n",
            "[619]\tvalid_0's rmse: 3.96238\n",
            "[620]\tvalid_0's rmse: 3.962\n",
            "[621]\tvalid_0's rmse: 3.96236\n",
            "[622]\tvalid_0's rmse: 3.96205\n",
            "[623]\tvalid_0's rmse: 3.96153\n",
            "[624]\tvalid_0's rmse: 3.96153\n",
            "[625]\tvalid_0's rmse: 3.96177\n",
            "[626]\tvalid_0's rmse: 3.96142\n",
            "[627]\tvalid_0's rmse: 3.96145\n",
            "[628]\tvalid_0's rmse: 3.96133\n",
            "[629]\tvalid_0's rmse: 3.96087\n",
            "[630]\tvalid_0's rmse: 3.96098\n",
            "[631]\tvalid_0's rmse: 3.96045\n",
            "[632]\tvalid_0's rmse: 3.96121\n",
            "[633]\tvalid_0's rmse: 3.96077\n",
            "[634]\tvalid_0's rmse: 3.9603\n",
            "[635]\tvalid_0's rmse: 3.96033\n",
            "[636]\tvalid_0's rmse: 3.96042\n",
            "[637]\tvalid_0's rmse: 3.96052\n",
            "[638]\tvalid_0's rmse: 3.96122\n",
            "[639]\tvalid_0's rmse: 3.9613\n",
            "[640]\tvalid_0's rmse: 3.96136\n",
            "[641]\tvalid_0's rmse: 3.96179\n",
            "[642]\tvalid_0's rmse: 3.96198\n",
            "[643]\tvalid_0's rmse: 3.96105\n",
            "[644]\tvalid_0's rmse: 3.96047\n",
            "[645]\tvalid_0's rmse: 3.96076\n",
            "[646]\tvalid_0's rmse: 3.96083\n",
            "[647]\tvalid_0's rmse: 3.96114\n",
            "[648]\tvalid_0's rmse: 3.96128\n",
            "[649]\tvalid_0's rmse: 3.9611\n",
            "Early stopping, best iteration is:\n",
            "[599]\tvalid_0's rmse: 3.95996\n"
          ]
        }
      ]
    },
    {
      "cell_type": "code",
      "source": [
        "# Calculate the mean squared error\n",
        "rmse_test = mean_squared_error(y_test, y_pred, squared = False)"
      ],
      "metadata": {
        "id": "uehFQSVHaD8m"
      },
      "execution_count": null,
      "outputs": []
    },
    {
      "cell_type": "code",
      "source": [
        "# Calculate the r-squared on test data\n",
        "y_pred = model.predict(X_test_red)\n",
        "r2_test = r2_score(y_test, y_pred)"
      ],
      "metadata": {
        "id": "rfKj5MWUaKU0"
      },
      "execution_count": null,
      "outputs": []
    },
    {
      "cell_type": "code",
      "source": [
        "# Make predictions on training data\n",
        "y_train_pred = model.predict(X_train_red)\n",
        "\n",
        "# Calculate the mean squared error on training data\n",
        "rmse_train = mean_squared_error(y_train, y_train_pred, squared=False)\n",
        "\n",
        "# Calculate the R-squared on training data\n",
        "r2_train = r2_score(y_train, y_train_pred)"
      ],
      "metadata": {
        "id": "k1oOev4DrAgL"
      },
      "execution_count": null,
      "outputs": []
    },
    {
      "cell_type": "code",
      "source": [
        "# Calculate the r-squared on total data set\n",
        "y_pred = model.predict(X_red)\n",
        "\n",
        "rmse_full = mean_squared_error(y_true, y_pred, squared = False)\n",
        "r2_full = r2_score(y_true, y_pred)"
      ],
      "metadata": {
        "id": "4OvEj0mYcwJ5"
      },
      "execution_count": null,
      "outputs": []
    },
    {
      "cell_type": "code",
      "source": [
        "# Create a dictionary with the metrics of the new model\n",
        "new_metrics = {'Model': ['LightGBM'],\n",
        "               'RMSE (Train Data)': [rmse_train],\n",
        "               'R-squared (Train Data)': [r2_train],\n",
        "               'RMSE (Test Data)': [rmse_test],\n",
        "               'R-squared (Test Data)': [r2_test],\n",
        "               'RMSE (Full Dataset)': [rmse_full],\n",
        "               'R-squared (Full Dataset)': [r2_full]}\n",
        "\n",
        "\n",
        "# Create a DataFrame from the new metrics dictionary\n",
        "df_new_results = pd.DataFrame(new_metrics)\n",
        "\n",
        "# Concatenate the new results with the existing results DataFrame\n",
        "df_results = pd.concat([df_results, df_new_results], ignore_index=True)\n",
        "\n",
        "# Display the updated table\n",
        "print(df_results)"
      ],
      "metadata": {
        "colab": {
          "base_uri": "https://localhost:8080/"
        },
        "id": "mPj6YaCSTl5z",
        "outputId": "6f8508a3-f0cc-4bee-931d-6c299cf296af"
      },
      "execution_count": null,
      "outputs": [
        {
          "output_type": "stream",
          "name": "stdout",
          "text": [
            "                                     Model  RMSE (Train Data)  R-squared (Train Data)  RMSE (Test Data)  R-squared (Test Data)  RMSE (Full Dataset)  R-squared (Full Dataset)\n",
            "0                            Random Forest           1.543565                0.953101          4.048939               0.675227             2.277028                  0.897812\n",
            "1  Random Forest w/ Hyperparameters Tuning           2.426062                0.884145          4.033884               0.677637             2.821891                  0.843056\n",
            "2                                 LightGBM           2.810137                0.844558          3.959957               0.689345             3.074695                  0.813676\n"
          ]
        }
      ]
    },
    {
      "cell_type": "markdown",
      "source": [
        "## ExtraTrees"
      ],
      "metadata": {
        "id": "PKiKG8dnphNQ"
      }
    },
    {
      "cell_type": "code",
      "source": [
        "# Create an Extra Trees model\n",
        "et_model = ExtraTreesRegressor(n_estimators=100, random_state=42)\n",
        "\n",
        "# Fit the Extra Trees model on the training data\n",
        "et_model.fit(X_train_red, y_train)\n",
        "\n",
        "# Make predictions on the testing data using the Extra Trees model\n",
        "y_pred = et_model.predict(X_test_red)"
      ],
      "metadata": {
        "id": "nvxgWS4tpget"
      },
      "execution_count": null,
      "outputs": []
    },
    {
      "cell_type": "code",
      "source": [
        "# Calculate mean squared error of the Extra Trees model\n",
        "rmse_test = mean_squared_error(y_test, y_pred, squared = False)\n",
        "\n",
        "# Calculate R-squared value of the Extra Trees model on test data\n",
        "r2_test = r2_score(y_test, y_pred)"
      ],
      "metadata": {
        "id": "GJJQJLAcqI8N"
      },
      "execution_count": null,
      "outputs": []
    },
    {
      "cell_type": "code",
      "source": [
        "# Make predictions on the training data using the Extra Trees model\n",
        "y_train_pred = et_model.predict(X_train_red)\n",
        "\n",
        "# Calculate mean squared error of the Extra Trees model on training data\n",
        "rmse_train = mean_squared_error(y_train, y_train_pred, squared=False)\n",
        "\n",
        "# Calculate R-squared value of the Extra Trees model on training data\n",
        "r2_train = r2_score(y_train, y_train_pred)"
      ],
      "metadata": {
        "id": "x_P0InARrYrt"
      },
      "execution_count": null,
      "outputs": []
    },
    {
      "cell_type": "code",
      "source": [
        "# Make predictions on the full dataset using the Extra Trees model\n",
        "y_pred = et_model.predict(X_red)\n",
        "\n",
        "rmse_full = mean_squared_error(y_true, y_pred, squared = False)\n",
        "r2_full = r2_score(y_true, y_pred)"
      ],
      "metadata": {
        "id": "tD77ug8EqX82"
      },
      "execution_count": null,
      "outputs": []
    },
    {
      "cell_type": "code",
      "source": [
        "# Create a dictionary with the metrics of the new model\n",
        "new_metrics = {'Model': ['Extra Trees'],\n",
        "               'RMSE (Train Data)': [rmse_train],\n",
        "               'R-squared (Train Data)': [r2_train],\n",
        "               'RMSE (Test Data)': [rmse_test],\n",
        "               'R-squared (Test Data)': [r2_test],\n",
        "               'RMSE (Full Dataset)': [rmse_full],\n",
        "               'R-squared (Full Dataset)': [r2_full]}\n",
        "\n",
        "# Create a DataFrame from the new metrics dictionary\n",
        "df_new_results = pd.DataFrame(new_metrics)\n",
        "\n",
        "# Concatenate the new results with the existing results DataFrame\n",
        "df_results = pd.concat([df_results, df_new_results], ignore_index=True)\n",
        "\n",
        "# Display the updated table\n",
        "print(df_results)"
      ],
      "metadata": {
        "colab": {
          "base_uri": "https://localhost:8080/"
        },
        "id": "BUJHYdKzUTAv",
        "outputId": "37d85e19-2beb-4fc2-8b10-e2e1c1313146"
      },
      "execution_count": null,
      "outputs": [
        {
          "output_type": "stream",
          "name": "stdout",
          "text": [
            "                                     Model  RMSE (Train Data)  R-squared (Train Data)  RMSE (Test Data)  R-squared (Test Data)  RMSE (Full Dataset)  R-squared (Full Dataset)\n",
            "0                            Random Forest       1.543565e+00                0.953101          4.048939               0.675227             2.277028                  0.897812\n",
            "1  Random Forest w/ Hyperparameters Tuning       2.426062e+00                0.884145          4.033884               0.677637             2.821891                  0.843056\n",
            "2                                 LightGBM       2.810137e+00                0.844558          3.959957               0.689345             3.074695                  0.813676\n",
            "3                              Extra Trees       2.065659e-14                1.000000          3.985658               0.685299             1.782440                  0.937383\n"
          ]
        }
      ]
    },
    {
      "cell_type": "markdown",
      "source": [
        "### Hyperparameter Tuning"
      ],
      "metadata": {
        "id": "mNqTSI3QUKZp"
      }
    },
    {
      "cell_type": "code",
      "source": [
        "# Define the parameter grid\n",
        "# param_grid = {\n",
        "#     'n_estimators': [50, 100, 200],\n",
        "#     'max_features': ['auto', 'sqrt'],\n",
        "#     'max_depth': [None, 10, 20],\n",
        "#     'min_samples_split': [2, 5, 10]\n",
        "# }\n",
        "\n",
        "# # Create an instance of GridSearchCV\n",
        "# grid_search = GridSearchCV(estimator=ExtraTreesRegressor(random_state=42),\n",
        "#                            param_grid=param_grid,\n",
        "#                            scoring='neg_mean_squared_error',\n",
        "#                            cv=5)\n",
        "\n",
        "# # Fit the GridSearchCV model\n",
        "# grid_search.fit(X_train_red, y_train)\n",
        "\n",
        "# # Get the best model and best hyperparameters\n",
        "# best_model = grid_search.best_estimator_\n",
        "# best_params = grid_search.best_params_\n",
        "\n",
        "# print(\"Best hyperparameters:\", best_params) \n",
        "\n",
        "# Best hyperparameters: {'max_depth': None, 'max_features': 'auto', 'min_samples_split': 5, 'n_estimators': 200}"
      ],
      "metadata": {
        "id": "Q2rKYv_m_S7K"
      },
      "execution_count": null,
      "outputs": []
    },
    {
      "cell_type": "code",
      "source": [
        "# Create an best Extra Trees model\n",
        "best_model = ExtraTreesRegressor(n_estimators=200, random_state=42,\n",
        "                                 max_depth = None, \n",
        "                                 max_features = 1.0, \n",
        "                                 min_samples_split = 5)\n",
        "best_model.fit(X_train_red, y_train)\n",
        "\n",
        "# Make predictions using the best model\n",
        "y_pred = best_model.predict(X_test_red)\n",
        "\n",
        "# Evaluate the best model on test data\n",
        "rmse_test = mean_squared_error(y_test, y_pred, squared = False)\n",
        "r2_test = r2_score(y_test, y_pred)"
      ],
      "metadata": {
        "id": "uFJveyFbpkoz"
      },
      "execution_count": null,
      "outputs": []
    },
    {
      "cell_type": "code",
      "source": [
        "# Make predictions on the training data using the Extra Trees model\n",
        "y_train_pred = best_model.predict(X_train_red)\n",
        "\n",
        "# Calculate mean squared error of the Extra Trees model on training data\n",
        "rmse_train = mean_squared_error(y_train, y_train_pred, squared=False)\n",
        "\n",
        "# Calculate R-squared value of the Extra Trees model on training data\n",
        "r2_train = r2_score(y_train, y_train_pred)"
      ],
      "metadata": {
        "id": "Nnletx2Ern8j"
      },
      "execution_count": null,
      "outputs": []
    },
    {
      "cell_type": "code",
      "source": [
        "# Make predictions on the full dataset\n",
        "y_pred = best_model.predict(X_red)\n",
        "\n",
        "rmse_full = mean_squared_error(y_true, y_pred, squared = False)\n",
        "r2_full = r2_score(y_true, y_pred)"
      ],
      "metadata": {
        "id": "_fJb3a70UTIA"
      },
      "execution_count": null,
      "outputs": []
    },
    {
      "cell_type": "code",
      "source": [
        "# Create a dictionary with the metrics of the new model\n",
        "new_metrics = {'Model': ['Extra Trees w/ Hyperparameter Tuning'],\n",
        "               'RMSE (Train Data)': [rmse_train],\n",
        "               'R-squared (Train Data)': [r2_train],\n",
        "               'RMSE (Test Data)': [rmse_test],\n",
        "               'R-squared (Test Data)': [r2_test],\n",
        "               'RMSE (Full Dataset)': [rmse_full],\n",
        "               'R-squared (Full Dataset)': [r2_full]}\n",
        "\n",
        "# Create a DataFrame from the new metrics dictionary\n",
        "df_new_results = pd.DataFrame(new_metrics)\n",
        "\n",
        "# Concatenate the new results with the existing results DataFrame\n",
        "df_results = pd.concat([df_results, df_new_results], ignore_index=True)\n",
        "\n",
        "# Display the updated table\n",
        "print(df_results)"
      ],
      "metadata": {
        "colab": {
          "base_uri": "https://localhost:8080/"
        },
        "id": "iczhpKDeUvt8",
        "outputId": "05101911-0785-45bb-ef0c-c8e2204a6c61"
      },
      "execution_count": null,
      "outputs": [
        {
          "output_type": "stream",
          "name": "stdout",
          "text": [
            "                                     Model  RMSE (Train Data)  R-squared (Train Data)  RMSE (Test Data)  R-squared (Test Data)  RMSE (Full Dataset)  R-squared (Full Dataset)\n",
            "0                            Random Forest       1.543565e+00                0.953101          4.048939               0.675227             2.277028                  0.897812\n",
            "1  Random Forest w/ Hyperparameters Tuning       2.426062e+00                0.884145          4.033884               0.677637             2.821891                  0.843056\n",
            "2                                 LightGBM       2.810137e+00                0.844558          3.959957               0.689345             3.074695                  0.813676\n",
            "3                              Extra Trees       2.065659e-14                1.000000          3.985658               0.685299             1.782440                  0.937383\n",
            "4     Extra Trees w/ Hyperparameter Tuning       8.240395e-01                0.986634          3.971447               0.687539             1.922943                  0.927122\n"
          ]
        }
      ]
    },
    {
      "cell_type": "markdown",
      "source": [
        "## Bagging Model"
      ],
      "metadata": {
        "id": "XI-wU2l__Yhj"
      }
    },
    {
      "cell_type": "code",
      "source": [
        "# Create a bagging model using Extra Trees as the base estimator\n",
        "bagging_model = BaggingRegressor(estimator=ExtraTreesRegressor(n_estimators=100, random_state=42),\n",
        "                                 n_estimators=10, random_state=42)\n",
        "\n",
        "# Fit the bagging model on the training data\n",
        "bagging_model.fit(X_train_red, y_train)\n",
        "\n",
        "# Make predictions on the testing data using the bagging model\n",
        "y_pred = bagging_model.predict(X_test_red)\n",
        "\n",
        "# Calculate RMSE and R-squared on the test data\n",
        "rmse_test = mean_squared_error(y_test, y_pred, squared=False)\n",
        "r2_test = r2_score(y_test, y_pred)\n",
        "\n",
        "# Make predictions on the training data\n",
        "y_train_pred = bagging_model.predict(X_train_red)\n",
        "\n",
        "# Calculate the R^2 score on the training data\n",
        "r2_train = r2_score(y_train, y_train_pred)\n",
        "\n",
        "# Calculate the RMSE on the training data\n",
        "rmse_train = mean_squared_error(y_train, y_train_pred, squared=False)\n",
        "\n",
        "# Make predictions on the full dataset using the bagging model\n",
        "y_pred_full = bagging_model.predict(X_red)\n",
        "\n",
        "# Calculate RMSE and R-squared on the full dataset\n",
        "rmse_full = mean_squared_error(y_true, y_pred_full, squared=False)\n",
        "r2_full = r2_score(y_true, y_pred_full)"
      ],
      "metadata": {
        "id": "WzhL3AHg_c9L"
      },
      "execution_count": null,
      "outputs": []
    },
    {
      "cell_type": "code",
      "source": [
        "# Create a dictionary with the metrics of the new model\n",
        "new_metrics = {'Model': ['Bagging with Extra Trees'],\n",
        "               'RMSE (Train Data)': [rmse_train],\n",
        "               'R-squared (Train Data)': [r2_train],\n",
        "               'RMSE (Test Data)': [rmse_test],\n",
        "               'R-squared (Test Data)': [r2_test],\n",
        "               'RMSE (Full Dataset)': [rmse_full],\n",
        "               'R-squared (Full Dataset)': [r2_full]}\n",
        "\n",
        "# Create a DataFrame from the new metrics dictionary\n",
        "df_new_results = pd.DataFrame(new_metrics)\n",
        "\n",
        "# Concatenate the new results with the existing results DataFrame\n",
        "df_results = pd.concat([df_results, df_new_results], ignore_index=True)\n",
        "\n",
        "# Display the updated table\n",
        "print(df_results)"
      ],
      "metadata": {
        "colab": {
          "base_uri": "https://localhost:8080/"
        },
        "id": "J22J3Jiv_gcV",
        "outputId": "46925c3a-5d89-4c1a-8018-9b40c67ea700"
      },
      "execution_count": null,
      "outputs": [
        {
          "output_type": "stream",
          "name": "stdout",
          "text": [
            "                                     Model  RMSE (Train Data)  R-squared (Train Data)  RMSE (Test Data)  R-squared (Test Data)  RMSE (Full Dataset)  R-squared (Full Dataset)\n",
            "0                            Random Forest       1.543565e+00                0.953101          4.048939               0.675227             2.277028                  0.897812\n",
            "1  Random Forest w/ Hyperparameters Tuning       2.426062e+00                0.884145          4.033884               0.677637             2.821891                  0.843056\n",
            "2                                 LightGBM       2.810137e+00                0.844558          3.959957               0.689345             3.074695                  0.813676\n",
            "3                              Extra Trees       2.065659e-14                1.000000          3.985658               0.685299             1.782440                  0.937383\n",
            "4     Extra Trees w/ Hyperparameter Tuning       8.240395e-01                0.986634          3.971447               0.687539             1.922943                  0.927122\n",
            "5                 Bagging with Extra Trees       1.657994e+00                0.945890          3.990596               0.684519             2.320372                  0.893885\n"
          ]
        }
      ]
    },
    {
      "cell_type": "markdown",
      "source": [
        "## Polynomial regression"
      ],
      "metadata": {
        "id": "QfZKItbJfwmI"
      }
    },
    {
      "cell_type": "code",
      "source": [
        "# transform X into a polynomial feature matrix\n",
        "poly = PolynomialFeatures(degree=3)\n",
        "X_poly = poly.fit_transform(X_train_red)"
      ],
      "metadata": {
        "id": "rjFU_adLiJb3"
      },
      "execution_count": null,
      "outputs": []
    },
    {
      "cell_type": "code",
      "source": [
        "# train the polynomial regression model\n",
        "regressor = LinearRegression()\n",
        "regressor.fit(X_poly, y_train)"
      ],
      "metadata": {
        "colab": {
          "base_uri": "https://localhost:8080/",
          "height": 75
        },
        "id": "3Avdrd0iiYrp",
        "outputId": "7df3f902-2899-46f8-8281-f02dd41511cf"
      },
      "execution_count": null,
      "outputs": [
        {
          "output_type": "execute_result",
          "data": {
            "text/plain": [
              "LinearRegression()"
            ],
            "text/html": [
              "<style>#sk-container-id-2 {color: black;background-color: white;}#sk-container-id-2 pre{padding: 0;}#sk-container-id-2 div.sk-toggleable {background-color: white;}#sk-container-id-2 label.sk-toggleable__label {cursor: pointer;display: block;width: 100%;margin-bottom: 0;padding: 0.3em;box-sizing: border-box;text-align: center;}#sk-container-id-2 label.sk-toggleable__label-arrow:before {content: \"▸\";float: left;margin-right: 0.25em;color: #696969;}#sk-container-id-2 label.sk-toggleable__label-arrow:hover:before {color: black;}#sk-container-id-2 div.sk-estimator:hover label.sk-toggleable__label-arrow:before {color: black;}#sk-container-id-2 div.sk-toggleable__content {max-height: 0;max-width: 0;overflow: hidden;text-align: left;background-color: #f0f8ff;}#sk-container-id-2 div.sk-toggleable__content pre {margin: 0.2em;color: black;border-radius: 0.25em;background-color: #f0f8ff;}#sk-container-id-2 input.sk-toggleable__control:checked~div.sk-toggleable__content {max-height: 200px;max-width: 100%;overflow: auto;}#sk-container-id-2 input.sk-toggleable__control:checked~label.sk-toggleable__label-arrow:before {content: \"▾\";}#sk-container-id-2 div.sk-estimator input.sk-toggleable__control:checked~label.sk-toggleable__label {background-color: #d4ebff;}#sk-container-id-2 div.sk-label input.sk-toggleable__control:checked~label.sk-toggleable__label {background-color: #d4ebff;}#sk-container-id-2 input.sk-hidden--visually {border: 0;clip: rect(1px 1px 1px 1px);clip: rect(1px, 1px, 1px, 1px);height: 1px;margin: -1px;overflow: hidden;padding: 0;position: absolute;width: 1px;}#sk-container-id-2 div.sk-estimator {font-family: monospace;background-color: #f0f8ff;border: 1px dotted black;border-radius: 0.25em;box-sizing: border-box;margin-bottom: 0.5em;}#sk-container-id-2 div.sk-estimator:hover {background-color: #d4ebff;}#sk-container-id-2 div.sk-parallel-item::after {content: \"\";width: 100%;border-bottom: 1px solid gray;flex-grow: 1;}#sk-container-id-2 div.sk-label:hover label.sk-toggleable__label {background-color: #d4ebff;}#sk-container-id-2 div.sk-serial::before {content: \"\";position: absolute;border-left: 1px solid gray;box-sizing: border-box;top: 0;bottom: 0;left: 50%;z-index: 0;}#sk-container-id-2 div.sk-serial {display: flex;flex-direction: column;align-items: center;background-color: white;padding-right: 0.2em;padding-left: 0.2em;position: relative;}#sk-container-id-2 div.sk-item {position: relative;z-index: 1;}#sk-container-id-2 div.sk-parallel {display: flex;align-items: stretch;justify-content: center;background-color: white;position: relative;}#sk-container-id-2 div.sk-item::before, #sk-container-id-2 div.sk-parallel-item::before {content: \"\";position: absolute;border-left: 1px solid gray;box-sizing: border-box;top: 0;bottom: 0;left: 50%;z-index: -1;}#sk-container-id-2 div.sk-parallel-item {display: flex;flex-direction: column;z-index: 1;position: relative;background-color: white;}#sk-container-id-2 div.sk-parallel-item:first-child::after {align-self: flex-end;width: 50%;}#sk-container-id-2 div.sk-parallel-item:last-child::after {align-self: flex-start;width: 50%;}#sk-container-id-2 div.sk-parallel-item:only-child::after {width: 0;}#sk-container-id-2 div.sk-dashed-wrapped {border: 1px dashed gray;margin: 0 0.4em 0.5em 0.4em;box-sizing: border-box;padding-bottom: 0.4em;background-color: white;}#sk-container-id-2 div.sk-label label {font-family: monospace;font-weight: bold;display: inline-block;line-height: 1.2em;}#sk-container-id-2 div.sk-label-container {text-align: center;}#sk-container-id-2 div.sk-container {/* jupyter's `normalize.less` sets `[hidden] { display: none; }` but bootstrap.min.css set `[hidden] { display: none !important; }` so we also need the `!important` here to be able to override the default hidden behavior on the sphinx rendered scikit-learn.org. See: https://github.com/scikit-learn/scikit-learn/issues/21755 */display: inline-block !important;position: relative;}#sk-container-id-2 div.sk-text-repr-fallback {display: none;}</style><div id=\"sk-container-id-2\" class=\"sk-top-container\"><div class=\"sk-text-repr-fallback\"><pre>LinearRegression()</pre><b>In a Jupyter environment, please rerun this cell to show the HTML representation or trust the notebook. <br />On GitHub, the HTML representation is unable to render, please try loading this page with nbviewer.org.</b></div><div class=\"sk-container\" hidden><div class=\"sk-item\"><div class=\"sk-estimator sk-toggleable\"><input class=\"sk-toggleable__control sk-hidden--visually\" id=\"sk-estimator-id-2\" type=\"checkbox\" checked><label for=\"sk-estimator-id-2\" class=\"sk-toggleable__label sk-toggleable__label-arrow\">LinearRegression</label><div class=\"sk-toggleable__content\"><pre>LinearRegression()</pre></div></div></div></div></div>"
            ]
          },
          "metadata": {},
          "execution_count": 146
        }
      ]
    },
    {
      "cell_type": "code",
      "source": [
        "# test the model on test data\n",
        "new_X_poly = poly.transform(X_test_red)\n",
        "y_pred = regressor.predict(new_X_poly)"
      ],
      "metadata": {
        "id": "nlHcIgFdiiGl"
      },
      "execution_count": null,
      "outputs": []
    },
    {
      "cell_type": "code",
      "source": [
        "# Evaluate model performance on test data\n",
        "rmse_test = mean_squared_error(y_test, y_pred, squared = False)\n",
        "\n",
        "# Calculate the r-squared on test data\n",
        "r2_test = r2_score(y_test, y_pred)"
      ],
      "metadata": {
        "id": "ZpIeg9M5izFJ"
      },
      "execution_count": null,
      "outputs": []
    },
    {
      "cell_type": "code",
      "source": [
        "# Make predictions on the training data\n",
        "y_train_pred = regressor.predict(X_poly)\n",
        "\n",
        "# Calculate RMSE on the training data\n",
        "rmse_train = mean_squared_error(y_train, y_train_pred, squared=False)\n",
        "\n",
        "# Calculate R-squared on the training data\n",
        "r2_train = r2_score(y_train, y_train_pred)"
      ],
      "metadata": {
        "id": "-IpWmN5cr1r6"
      },
      "execution_count": null,
      "outputs": []
    },
    {
      "cell_type": "code",
      "source": [
        "# Calculate the r-squared on total data set\n",
        "new_X_poly = poly.transform(X_red)\n",
        "y_pred = regressor.predict(new_X_poly)\n",
        "\n",
        "rmse_full = mean_squared_error(y_true, y_pred, squared = False)\n",
        "r2_full = r2_score(y_true, y_pred)"
      ],
      "metadata": {
        "id": "X-6KJuAAjB4S"
      },
      "execution_count": null,
      "outputs": []
    },
    {
      "cell_type": "code",
      "source": [
        "# Create a dictionary with the metrics of the new model\n",
        "new_metrics = {'Model': ['Polynomial Regression'],\n",
        "               'RMSE (Train Data)': [rmse_train],\n",
        "               'R-squared (Train Data)': [r2_train],\n",
        "               'RMSE (Test Data)': [rmse_test],\n",
        "               'R-squared (Test Data)': [r2_test],\n",
        "               'RMSE (Full Dataset)': [rmse_full],\n",
        "               'R-squared (Full Dataset)': [r2_full]}\n",
        "\n",
        "# Create a DataFrame from the new metrics dictionary\n",
        "df_new_results = pd.DataFrame(new_metrics)\n",
        "\n",
        "# Concatenate the new results with the existing results DataFrame\n",
        "df_results = pd.concat([df_results, df_new_results], ignore_index=True)\n",
        "\n",
        "# Display the updated table\n",
        "print(df_results)"
      ],
      "metadata": {
        "colab": {
          "base_uri": "https://localhost:8080/"
        },
        "id": "ZFHfKVWTUroN",
        "outputId": "8a5a80dd-3deb-46cf-abb2-92febf0a3b66"
      },
      "execution_count": null,
      "outputs": [
        {
          "output_type": "stream",
          "name": "stdout",
          "text": [
            "                                     Model  RMSE (Train Data)  R-squared (Train Data)  RMSE (Test Data)  R-squared (Test Data)  RMSE (Full Dataset)  R-squared (Full Dataset)\n",
            "0                            Random Forest       1.543565e+00                0.953101          4.048939               0.675227             2.277028                  0.897812\n",
            "1  Random Forest w/ Hyperparameters Tuning       2.426062e+00                0.884145          4.033884               0.677637             2.821891                  0.843056\n",
            "2                                 LightGBM       2.810137e+00                0.844558          3.959957               0.689345             3.074695                  0.813676\n",
            "3                              Extra Trees       2.065659e-14                1.000000          3.985658               0.685299             1.782440                  0.937383\n",
            "4     Extra Trees w/ Hyperparameter Tuning       8.240395e-01                0.986634          3.971447               0.687539             1.922943                  0.927122\n",
            "5                 Bagging with Extra Trees       1.657994e+00                0.945890          3.990596               0.684519             2.320372                  0.893885\n",
            "6                    Polynomial Regression       3.727786e+00                0.726464          4.373561               0.621062             3.865581                  0.705495\n"
          ]
        }
      ]
    },
    {
      "cell_type": "markdown",
      "source": [
        "## CNN"
      ],
      "metadata": {
        "id": "ugYG2Mf-uCqV"
      }
    },
    {
      "cell_type": "code",
      "source": [
        "import tensorflow as tf\n",
        "from tensorflow.keras.models import Sequential\n",
        "from tensorflow.keras.layers import Conv1D, MaxPooling1D, Flatten, Dense\n",
        "\n",
        "# Reshape input data for CNN\n",
        "X_train_cnn = X_train_red.values.reshape(X_train_red.shape[0], X_train_red.shape[1], 1)\n",
        "X_test_cnn = X_test_red.values.reshape(X_test_red.shape[0], X_test_red.shape[1], 1)"
      ],
      "metadata": {
        "id": "ks6heHfZuGIq"
      },
      "execution_count": null,
      "outputs": []
    },
    {
      "cell_type": "code",
      "source": [
        "# Define the CNN model\n",
        "model = Sequential()\n",
        "model.add(Conv1D(32, kernel_size=3, activation='relu', input_shape=(X_train_cnn.shape[1], 1)))\n",
        "model.add(MaxPooling1D(pool_size=2))\n",
        "model.add(Conv1D(64, kernel_size=3, activation='relu'))\n",
        "model.add(MaxPooling1D(pool_size=2))\n",
        "model.add(Flatten())\n",
        "model.add(Dense(64, activation='relu'))\n",
        "model.add(Dense(1))  # Output layer with 1 neuron for regression\n",
        "\n",
        "# Compile the model\n",
        "model.compile(optimizer='adam', loss='mean_squared_error')"
      ],
      "metadata": {
        "id": "1Hg7a5xEuOKe"
      },
      "execution_count": null,
      "outputs": []
    },
    {
      "cell_type": "code",
      "source": [
        "# Train the model\n",
        "model.fit(X_train_cnn, y_train, epochs=10, batch_size=32)"
      ],
      "metadata": {
        "colab": {
          "base_uri": "https://localhost:8080/"
        },
        "id": "2zvQJWntuSpb",
        "outputId": "47d058e4-397f-4f5a-d299-a22bed058609"
      },
      "execution_count": null,
      "outputs": [
        {
          "output_type": "stream",
          "name": "stdout",
          "text": [
            "Epoch 1/10\n",
            "527/527 [==============================] - 4s 5ms/step - loss: 71.5628\n",
            "Epoch 2/10\n",
            "527/527 [==============================] - 3s 7ms/step - loss: 36.5875\n",
            "Epoch 3/10\n",
            "527/527 [==============================] - 3s 6ms/step - loss: 32.5974\n",
            "Epoch 4/10\n",
            "527/527 [==============================] - 2s 4ms/step - loss: 32.3211\n",
            "Epoch 5/10\n",
            "527/527 [==============================] - 2s 4ms/step - loss: 30.0986\n",
            "Epoch 6/10\n",
            "527/527 [==============================] - 3s 5ms/step - loss: 29.1873\n",
            "Epoch 7/10\n",
            "527/527 [==============================] - 2s 5ms/step - loss: 28.2680\n",
            "Epoch 8/10\n",
            "527/527 [==============================] - 2s 4ms/step - loss: 27.4975\n",
            "Epoch 9/10\n",
            "527/527 [==============================] - 2s 4ms/step - loss: 26.6858\n",
            "Epoch 10/10\n",
            "527/527 [==============================] - 2s 4ms/step - loss: 26.9737\n"
          ]
        },
        {
          "output_type": "execute_result",
          "data": {
            "text/plain": [
              "<keras.callbacks.History at 0x7fe388091480>"
            ]
          },
          "metadata": {},
          "execution_count": 154
        }
      ]
    },
    {
      "cell_type": "code",
      "source": [
        "# Evaluate the model on the test set\n",
        "loss = model.evaluate(X_test_cnn, y_test)\n",
        "print(\"Test Loss:\", loss)"
      ],
      "metadata": {
        "colab": {
          "base_uri": "https://localhost:8080/"
        },
        "id": "v35nSrvTuXI2",
        "outputId": "67cc61a2-de3a-406d-b716-2c36855286e8"
      },
      "execution_count": null,
      "outputs": [
        {
          "output_type": "stream",
          "name": "stdout",
          "text": [
            "132/132 [==============================] - 0s 2ms/step - loss: 23.4882\n",
            "Test Loss: 23.488239288330078\n"
          ]
        }
      ]
    },
    {
      "cell_type": "code",
      "source": [
        "# Make predictions on the test set\n",
        "y_pred = model.predict(X_test_cnn)\n",
        "\n",
        "# Calculate RMSE\n",
        "mse_test = np.mean((y_pred - y_test.values.reshape(-1, 1))**2)\n",
        "rmse_test = np.sqrt(mse_test)\n",
        "\n",
        "# Calculate R-squared\n",
        "r2_test = r2_score(y_test, y_pred)"
      ],
      "metadata": {
        "colab": {
          "base_uri": "https://localhost:8080/"
        },
        "id": "DmaCU8Geuxew",
        "outputId": "3687c27c-04ee-4e4f-f8fc-5e9324c713a3"
      },
      "execution_count": null,
      "outputs": [
        {
          "output_type": "stream",
          "name": "stdout",
          "text": [
            "132/132 [==============================] - 0s 2ms/step\n"
          ]
        }
      ]
    },
    {
      "cell_type": "code",
      "source": [
        "# Make predictions on the training data using the CNN model\n",
        "y_train_pred = model.predict(X_train_cnn)\n",
        "\n",
        "# Calculate R-squared on the training data\n",
        "r2_train = r2_score(y_train, y_train_pred)\n",
        "\n",
        "# Calculate RMSE on the training data\n",
        "rmse_train = mean_squared_error(y_train, y_train_pred, squared=False)"
      ],
      "metadata": {
        "colab": {
          "base_uri": "https://localhost:8080/"
        },
        "id": "LXNWlHxngdY3",
        "outputId": "691f5560-18a3-4eac-f557-dcfca35b08b2"
      },
      "execution_count": null,
      "outputs": [
        {
          "output_type": "stream",
          "name": "stdout",
          "text": [
            "527/527 [==============================] - 1s 2ms/step\n"
          ]
        }
      ]
    },
    {
      "cell_type": "code",
      "source": [
        "# Reshape the X_red dataset for the CNN model\n",
        "X_red_cnn = X_red.values.reshape(X_red.shape[0], X_red.shape[1], 1)\n",
        "\n",
        "# Make predictions on the full dataset\n",
        "y_pred_full = model.predict(X_red_cnn)\n",
        "\n",
        "# Calculate RMSE for the full dataset\n",
        "mse_full = np.mean((y_pred_full - y_true.reshape(-1, 1))**2)\n",
        "rmse_full = np.sqrt(mse_full)\n",
        "\n",
        "# Calculate R-squared for the full dataset\n",
        "r2_full = r2_score(y_true, y_pred_full)"
      ],
      "metadata": {
        "colab": {
          "base_uri": "https://localhost:8080/"
        },
        "id": "1qoTaw-9pO-j",
        "outputId": "c86af405-64a6-44b9-f242-a7316585afc5"
      },
      "execution_count": null,
      "outputs": [
        {
          "output_type": "stream",
          "name": "stdout",
          "text": [
            "658/658 [==============================] - 2s 2ms/step\n"
          ]
        }
      ]
    },
    {
      "cell_type": "code",
      "source": [
        "# Create a dictionary with the metrics of the CNN model\n",
        "cnn_metrics = {'Model': ['CNN'],\n",
        "               'RMSE (Train Data)': [rmse_train],\n",
        "               'R-squared (Train Data)': [r2_train],\n",
        "               'RMSE (Test Data)': [rmse_test],\n",
        "               'R-squared (Test Data)': [r2_test],\n",
        "               'RMSE (Full Dataset)': [rmse_full],\n",
        "               'R-squared (Full Dataset)': [r2_full]}\n",
        "\n",
        "# Create a DataFrame from the new metrics dictionary\n",
        "df_cnn_results = pd.DataFrame(cnn_metrics)\n",
        "\n",
        "# Concatenate the new results with the existing df_results DataFrame\n",
        "df_results = pd.concat([df_results, df_cnn_results], ignore_index=True)\n",
        "\n",
        "# Display the updated table\n",
        "print(df_results)"
      ],
      "metadata": {
        "colab": {
          "base_uri": "https://localhost:8080/"
        },
        "id": "Cxk3VxPdpSFJ",
        "outputId": "fa368b1a-c313-4c8c-9bed-5e796610ce2e"
      },
      "execution_count": null,
      "outputs": [
        {
          "output_type": "stream",
          "name": "stdout",
          "text": [
            "                                     Model  RMSE (Train Data)  R-squared (Train Data)  RMSE (Test Data)  R-squared (Test Data)  RMSE (Full Dataset)  R-squared (Full Dataset)\n",
            "0                            Random Forest       1.543565e+00                0.953101          4.048939               0.675227             2.277028                  0.897812\n",
            "1  Random Forest w/ Hyperparameters Tuning       2.426062e+00                0.884145          4.033884               0.677637             2.821891                  0.843056\n",
            "2                                 LightGBM       2.810137e+00                0.844558          3.959957               0.689345             3.074695                  0.813676\n",
            "3                              Extra Trees       2.065659e-14                1.000000          3.985658               0.685299             1.782440                  0.937383\n",
            "4     Extra Trees w/ Hyperparameter Tuning       8.240395e-01                0.986634          3.971447               0.687539             1.922943                  0.927122\n",
            "5                 Bagging with Extra Trees       1.657994e+00                0.945890          3.990596               0.684519             2.320372                  0.893885\n",
            "6                    Polynomial Regression       3.727786e+00                0.726464          4.373561               0.621062             3.865581                  0.705495\n",
            "7                                      CNN       4.925914e+00                0.522376          4.846467               0.534684             4.910128                  0.524830\n"
          ]
        }
      ]
    },
    {
      "cell_type": "markdown",
      "source": [
        "## MLP"
      ],
      "metadata": {
        "id": "Stqqq2rIvfq1"
      }
    },
    {
      "cell_type": "code",
      "source": [
        "# Create the feedforward neural network model\n",
        "model_ffnn = Sequential()\n",
        "model_ffnn.add(Dense(64, activation='relu', input_shape=(X_train_cnn.shape[1],)))\n",
        "model_ffnn.add(Dense(64, activation='relu'))\n",
        "model_ffnn.add(Dense(1))\n",
        "\n",
        "# Compile the model\n",
        "model_ffnn.compile(optimizer='adam', loss='mean_squared_error')"
      ],
      "metadata": {
        "id": "jVtnUV26vZhj"
      },
      "execution_count": null,
      "outputs": []
    },
    {
      "cell_type": "code",
      "source": [
        "# Train the model\n",
        "model_ffnn.fit(X_train_cnn, y_train, epochs=10, batch_size=32)\n",
        "\n",
        "# Evaluate the model on the test set\n",
        "loss_ffnn = model_ffnn.evaluate(X_test_cnn, y_test)\n",
        "print(\"Test Loss (Feedforward Neural Network):\", loss_ffnn)"
      ],
      "metadata": {
        "colab": {
          "base_uri": "https://localhost:8080/"
        },
        "id": "tKFgGRfDv3Hv",
        "outputId": "a433c52f-898c-402b-80aa-17192f18a0a3"
      },
      "execution_count": null,
      "outputs": [
        {
          "output_type": "stream",
          "name": "stdout",
          "text": [
            "Epoch 1/10\n",
            "527/527 [==============================] - 3s 3ms/step - loss: 190.3282\n",
            "Epoch 2/10\n",
            "527/527 [==============================] - 1s 3ms/step - loss: 34.3588\n",
            "Epoch 3/10\n",
            "527/527 [==============================] - 1s 2ms/step - loss: 35.8404\n",
            "Epoch 4/10\n",
            "527/527 [==============================] - 1s 2ms/step - loss: 34.4755\n",
            "Epoch 5/10\n",
            "527/527 [==============================] - 1s 2ms/step - loss: 32.4558\n",
            "Epoch 6/10\n",
            "527/527 [==============================] - 1s 2ms/step - loss: 32.8863\n",
            "Epoch 7/10\n",
            "527/527 [==============================] - 1s 2ms/step - loss: 33.5240\n",
            "Epoch 8/10\n",
            "527/527 [==============================] - 1s 2ms/step - loss: 31.2758\n",
            "Epoch 9/10\n",
            "527/527 [==============================] - 1s 2ms/step - loss: 29.3961\n",
            "Epoch 10/10\n",
            "527/527 [==============================] - 1s 2ms/step - loss: 28.2238\n",
            "132/132 [==============================] - 0s 1ms/step - loss: 23.3164\n",
            "Test Loss (Feedforward Neural Network): 23.316425323486328\n"
          ]
        }
      ]
    },
    {
      "cell_type": "code",
      "source": [
        "# Make predictions on the test set\n",
        "y_pred = model_ffnn.predict(X_test_cnn)\n",
        "\n",
        "# Calculate RMSE\n",
        "mse_ffnn = np.mean((y_pred - y_test.values.reshape(-1, 1))**2)\n",
        "rmse_ffnn = np.sqrt(mse_ffnn)\n",
        "\n",
        "# Calculate R-squared\n",
        "r2_ffnn = r2_score(y_test, y_pred)"
      ],
      "metadata": {
        "colab": {
          "base_uri": "https://localhost:8080/"
        },
        "id": "JewnN0J4v5gy",
        "outputId": "b8db01e8-4437-40d6-af03-8c042374142e"
      },
      "execution_count": null,
      "outputs": [
        {
          "output_type": "stream",
          "name": "stdout",
          "text": [
            "132/132 [==============================] - 0s 1ms/step\n"
          ]
        }
      ]
    },
    {
      "cell_type": "code",
      "source": [
        "# Make predictions on the training data using the CNN model\n",
        "y_train_pred = model_ffnn.predict(X_train_cnn)\n",
        "\n",
        "# Calculate RMSE on the training data\n",
        "mse_train_ffnn = np.mean((y_train_pred - y_train.values.reshape(-1, 1))**2)\n",
        "rmse_train_ffnn = np.sqrt(mse_train_ffnn)\n",
        "\n",
        "# Calculate R-squared on the training data\n",
        "r2_train_ffnn = r2_score(y_train, y_train_pred)"
      ],
      "metadata": {
        "colab": {
          "base_uri": "https://localhost:8080/"
        },
        "id": "CIEq_-96g4IU",
        "outputId": "8a856b83-d6d6-450f-83d6-da78427aaf7e"
      },
      "execution_count": null,
      "outputs": [
        {
          "output_type": "stream",
          "name": "stdout",
          "text": [
            "527/527 [==============================] - 1s 2ms/step\n"
          ]
        }
      ]
    },
    {
      "cell_type": "code",
      "source": [
        "# Calculate RMSE for the full dataset\n",
        "y_pred = model_ffnn.predict(X_red_cnn)\n",
        "mse_full_ffnn = np.mean((y_pred- y_true.reshape(-1, 1))**2)\n",
        "rmse_full_ffnn = np.sqrt(mse_full_ffnn)\n",
        "\n",
        "# Calculate R-squared for the full dataset\n",
        "r2_full_ffnn = r2_score(y_true, y_pred)"
      ],
      "metadata": {
        "colab": {
          "base_uri": "https://localhost:8080/"
        },
        "id": "-kgbWRcPwJ8v",
        "outputId": "f37c6495-9fbf-4a69-89cb-175a90877d6b"
      },
      "execution_count": null,
      "outputs": [
        {
          "output_type": "stream",
          "name": "stdout",
          "text": [
            "658/658 [==============================] - 1s 2ms/step\n"
          ]
        }
      ]
    },
    {
      "cell_type": "code",
      "source": [
        "# Create a dictionary with the metrics of the feedforward neural network model\n",
        "new_metrics = {'Model': ['MLP'],\n",
        "               'RMSE (Train Data)': [rmse_train_ffnn],\n",
        "               'R-squared (Train Data)': [r2_train_ffnn],\n",
        "               'RMSE (Test Data)': [rmse_ffnn],\n",
        "               'R-squared (Test Data)': [r2_ffnn],\n",
        "               'RMSE (Full Dataset)': [rmse_full],\n",
        "               'R-squared (Full Dataset)': [r2_full]}\n",
        "\n",
        "# Create a DataFrame from the new metrics dictionary\n",
        "df_ffnn_results = pd.DataFrame(new_metrics)\n",
        "\n",
        "# Concatenate the new results with the existing df_results DataFrame\n",
        "df_results = pd.concat([df_results, df_ffnn_results], ignore_index=True)\n",
        "\n",
        "# Display the updated table\n",
        "print(df_results)"
      ],
      "metadata": {
        "colab": {
          "base_uri": "https://localhost:8080/"
        },
        "id": "AvI2VCpKwZ6K",
        "outputId": "73cca006-e3e7-4459-d01d-a8481f9452ac"
      },
      "execution_count": null,
      "outputs": [
        {
          "output_type": "stream",
          "name": "stdout",
          "text": [
            "                                     Model  RMSE (Train Data)  R-squared (Train Data)  RMSE (Test Data)  R-squared (Test Data)  RMSE (Full Dataset)  R-squared (Full Dataset)\n",
            "0                            Random Forest       1.543565e+00                0.953101          4.048939               0.675227             2.277028                  0.897812\n",
            "1  Random Forest w/ Hyperparameters Tuning       2.426062e+00                0.884145          4.033884               0.677637             2.821891                  0.843056\n",
            "2                                 LightGBM       2.810137e+00                0.844558          3.959957               0.689345             3.074695                  0.813676\n",
            "3                              Extra Trees       2.065659e-14                1.000000          3.985658               0.685299             1.782440                  0.937383\n",
            "4     Extra Trees w/ Hyperparameter Tuning       8.240395e-01                0.986634          3.971447               0.687539             1.922943                  0.927122\n",
            "5                 Bagging with Extra Trees       1.657994e+00                0.945890          3.990596               0.684519             2.320372                  0.893885\n",
            "6                    Polynomial Regression       3.727786e+00                0.726464          4.373561               0.621062             3.865581                  0.705495\n",
            "7                                      CNN       4.925914e+00                0.522376          4.846467               0.534684             4.910128                  0.524830\n",
            "8                                      MLP       4.904083e+00                0.526600          4.828709               0.538088             4.910128                  0.524830\n"
          ]
        }
      ]
    },
    {
      "cell_type": "markdown",
      "source": [
        "# Feature Selection"
      ],
      "metadata": {
        "id": "9NfuUPskYZuD"
      }
    },
    {
      "cell_type": "code",
      "source": [
        "# feature selection\n",
        "from sklearn.feature_selection import SelectKBest, f_regression"
      ],
      "metadata": {
        "id": "yGC6Jjz_Ye5D"
      },
      "execution_count": null,
      "outputs": []
    },
    {
      "cell_type": "code",
      "source": [
        "X_red = X.drop(columns_to_drop, axis=1)"
      ],
      "metadata": {
        "id": "3KE918JAyPA3"
      },
      "execution_count": null,
      "outputs": []
    },
    {
      "cell_type": "code",
      "source": [
        "X_red.shape"
      ],
      "metadata": {
        "colab": {
          "base_uri": "https://localhost:8080/"
        },
        "id": "yEAznwzxK6ly",
        "outputId": "e3530dd0-9213-4acf-f14e-00e7311ea6d7"
      },
      "execution_count": null,
      "outputs": [
        {
          "output_type": "execute_result",
          "data": {
            "text/plain": [
              "(21045, 23)"
            ]
          },
          "metadata": {},
          "execution_count": 168
        }
      ]
    },
    {
      "cell_type": "code",
      "source": [
        "select = SelectKBest(score_func=f_regression, k=16)\n",
        "z = select.fit_transform(X_red,y)"
      ],
      "metadata": {
        "id": "I7Lt8fcBYipd"
      },
      "execution_count": null,
      "outputs": []
    },
    {
      "cell_type": "code",
      "source": [
        "# diplay selected variables\n",
        "selected_features = select.get_support()\n",
        "print(X_red.columns[selected_features])"
      ],
      "metadata": {
        "id": "S0UUI20SYnAW",
        "colab": {
          "base_uri": "https://localhost:8080/"
        },
        "outputId": "0c83f8b6-f844-4c19-d39f-dd2dfe303a0b"
      },
      "execution_count": null,
      "outputs": [
        {
          "output_type": "stream",
          "name": "stdout",
          "text": [
            "Index(['Altitude', 'Humidity', 'AmbientTemp', 'AirTemp', 'Azimuth', 'CloudOpacity', 'DewpointTemp', 'Ebh', 'Ghi', 'GtiFixedTilt', 'GtiTracking', 'PrecipitableWater', 'RelativeHumidity', 'SnowWater', 'Zenith', 'AlbedoDaily'], dtype='object')\n"
          ]
        }
      ]
    },
    {
      "cell_type": "code",
      "source": [
        "X_selected = X_red.iloc[:, selected_features]"
      ],
      "metadata": {
        "id": "-uJYLAGAFXU9"
      },
      "execution_count": null,
      "outputs": []
    },
    {
      "cell_type": "markdown",
      "source": [
        "# Train Test Split (selected features)"
      ],
      "metadata": {
        "id": "K7r-bpVTIF7v"
      }
    },
    {
      "cell_type": "code",
      "source": [
        "# Split the dataset into training and testing sets\n",
        "X_train, X_test, y_train, y_test = train_test_split(X_selected, y, test_size=0.2, random_state=42)"
      ],
      "metadata": {
        "id": "FkLeGVSyFfoa"
      },
      "execution_count": null,
      "outputs": []
    },
    {
      "cell_type": "markdown",
      "source": [
        "# Models (selected features)"
      ],
      "metadata": {
        "id": "QBCmpN3xIYDB"
      }
    },
    {
      "cell_type": "markdown",
      "source": [
        "## Random Forest"
      ],
      "metadata": {
        "id": "l1lQ7cuwIc8-"
      }
    },
    {
      "cell_type": "code",
      "source": [
        "# Create a random forest regressor model\n",
        "rf = RandomForestRegressor(n_estimators=100, random_state=42)\n",
        "\n",
        "# Train the model on the training data\n",
        "rf.fit(X_train, y_train)\n",
        "\n",
        "# Make predictions on the testing data\n",
        "y_pred = rf.predict(X_test)"
      ],
      "metadata": {
        "id": "SBxFtK6_IcKo"
      },
      "execution_count": null,
      "outputs": []
    },
    {
      "cell_type": "code",
      "source": [
        "# Calculate the mean squared error\n",
        "rmse_test = mean_squared_error(y_test, y_pred, squared = False)\n",
        "\n",
        "# Calculate the r-squared on test data\n",
        "r2_test = r2_score(y_test, y_pred)"
      ],
      "metadata": {
        "id": "82fcK_PbJ-MQ"
      },
      "execution_count": null,
      "outputs": []
    },
    {
      "cell_type": "code",
      "source": [
        "# Make predictions on the training data\n",
        "y_train_pred = rf.predict(X_train)\n",
        "\n",
        "# Calculate the R^2 score on the training data\n",
        "r2_train = rf.score(X_train, y_train)\n",
        "\n",
        "# Calculate the RMSE on the training data\n",
        "rmse_train = mean_squared_error(y_train, y_train_pred, squared=False)"
      ],
      "metadata": {
        "id": "fqQA-mVqhu7c"
      },
      "execution_count": null,
      "outputs": []
    },
    {
      "cell_type": "code",
      "source": [
        "# Calculate the r-squared on total data set\n",
        "y_pred = rf.predict(X_selected)\n",
        "\n",
        "rmse_full = mean_squared_error(y_true, y_pred, squared = False)\n",
        "r2_full = r2_score(y_true, y_pred)"
      ],
      "metadata": {
        "id": "HbdxL-8vKCi2"
      },
      "execution_count": null,
      "outputs": []
    },
    {
      "cell_type": "code",
      "source": [
        "# Create a dictionary with the metrics of the feedforward neural network model\n",
        "new_metrics = {'Model': ['Random Forest'],\n",
        "               'RMSE (Train Data)': [rmse_train],\n",
        "               'R-squared (Train Data)': [r2_train],\n",
        "               'RMSE (Test Data)': [rmse_test],\n",
        "               'R-squared (Test Data)': [r2_test],\n",
        "               'RMSE (Full Dataset)': [rmse_full],\n",
        "               'R-squared (Full Dataset)': [r2_full]}\n",
        "# Create a DataFrame from the new metrics dictionary\n",
        "df_new_results = pd.DataFrame(new_metrics)\n",
        "\n",
        "# Concatenate the new results with the existing df_results DataFrame\n",
        "df_results = pd.concat([df_results, df_new_results], ignore_index=True)\n",
        "\n",
        "# Display the updated table\n",
        "print(df_results)"
      ],
      "metadata": {
        "colab": {
          "base_uri": "https://localhost:8080/"
        },
        "id": "lgicNdRJyiw4",
        "outputId": "3550a852-8445-4a18-e7c2-c1198efa5edc"
      },
      "execution_count": null,
      "outputs": [
        {
          "output_type": "stream",
          "name": "stdout",
          "text": [
            "                                     Model  RMSE (Train Data)  R-squared (Train Data)  RMSE (Test Data)  R-squared (Test Data)  RMSE (Full Dataset)  R-squared (Full Dataset)\n",
            "0                            Random Forest       1.543565e+00                0.953101          4.048939               0.675227             2.277028                  0.897812\n",
            "1  Random Forest w/ Hyperparameters Tuning       2.426062e+00                0.884145          4.033884               0.677637             2.821891                  0.843056\n",
            "2                                 LightGBM       2.810137e+00                0.844558          3.959957               0.689345             3.074695                  0.813676\n",
            "3                              Extra Trees       2.065659e-14                1.000000          3.985658               0.685299             1.782440                  0.937383\n",
            "4     Extra Trees w/ Hyperparameter Tuning       8.240395e-01                0.986634          3.971447               0.687539             1.922943                  0.927122\n",
            "5                 Bagging with Extra Trees       1.657994e+00                0.945890          3.990596               0.684519             2.320372                  0.893885\n",
            "6                    Polynomial Regression       3.727786e+00                0.726464          4.373561               0.621062             3.865581                  0.705495\n",
            "7                                      CNN       4.925914e+00                0.522376          4.846467               0.534684             4.910128                  0.524830\n",
            "8                                      MLP       4.904083e+00                0.526600          4.828709               0.538088             4.910128                  0.524830\n",
            "9                            Random Forest       1.574279e+00                0.951216          4.074492               0.671115             2.302820                  0.895484\n"
          ]
        }
      ]
    },
    {
      "cell_type": "markdown",
      "source": [
        "# Final Results Table"
      ],
      "metadata": {
        "id": "2GaWhDSEzcB8"
      }
    },
    {
      "cell_type": "code",
      "source": [
        "# Define the desired order of the models\n",
        "desired_order = [0,1,9,2,3,4,5,6,7,8]\n",
        "\n",
        "# Reorder the rows in the DataFrame based on the desired order\n",
        "df_results = df_results.reindex(desired_order)\n",
        "\n",
        "# Reset the index\n",
        "df_results.reset_index(drop=True, inplace=True)\n",
        "\n",
        "# Display the updated table\n",
        "print(df_results)"
      ],
      "metadata": {
        "colab": {
          "base_uri": "https://localhost:8080/"
        },
        "id": "LvgydbmMzadd",
        "outputId": "534e7bb0-c9d7-4ed9-b618-a55a36fe1662"
      },
      "execution_count": null,
      "outputs": [
        {
          "output_type": "stream",
          "name": "stdout",
          "text": [
            "                                     Model  RMSE (Train Data)  R-squared (Train Data)  RMSE (Test Data)  R-squared (Test Data)  RMSE (Full Dataset)  R-squared (Full Dataset)\n",
            "0                            Random Forest       1.543565e+00                0.953101          4.048939               0.675227             2.277028                  0.897812\n",
            "1  Random Forest w/ Hyperparameters Tuning       2.426062e+00                0.884145          4.033884               0.677637             2.821891                  0.843056\n",
            "2                            Random Forest       1.574279e+00                0.951216          4.074492               0.671115             2.302820                  0.895484\n",
            "3                                 LightGBM       2.810137e+00                0.844558          3.959957               0.689345             3.074695                  0.813676\n",
            "4                              Extra Trees       2.065659e-14                1.000000          3.985658               0.685299             1.782440                  0.937383\n",
            "5     Extra Trees w/ Hyperparameter Tuning       8.240395e-01                0.986634          3.971447               0.687539             1.922943                  0.927122\n",
            "6                 Bagging with Extra Trees       1.657994e+00                0.945890          3.990596               0.684519             2.320372                  0.893885\n",
            "7                    Polynomial Regression       3.727786e+00                0.726464          4.373561               0.621062             3.865581                  0.705495\n",
            "8                                      CNN       4.925914e+00                0.522376          4.846467               0.534684             4.910128                  0.524830\n",
            "9                                      MLP       4.904083e+00                0.526600          4.828709               0.538088             4.910128                  0.524830\n"
          ]
        }
      ]
    },
    {
      "cell_type": "markdown",
      "source": [
        "# Visualizations for Best Model"
      ],
      "metadata": {
        "id": "6d25w6OmVeoM"
      }
    },
    {
      "cell_type": "code",
      "source": [
        "X_red = X.drop(columns_to_drop, axis=1).drop(new_columns_to_drop, axis=1)"
      ],
      "metadata": {
        "id": "_h9Fn8hgpSev"
      },
      "execution_count": null,
      "outputs": []
    },
    {
      "cell_type": "code",
      "source": [
        "y_pred = best_model.predict(X_red)"
      ],
      "metadata": {
        "id": "O15uKetLVisr"
      },
      "execution_count": null,
      "outputs": []
    },
    {
      "cell_type": "code",
      "source": [
        "# Create a scatter plot of predicted vs actual values\n",
        "plt.figure(figsize=(8, 6))\n",
        "plt.scatter(y_true, y_pred)\n",
        "plt.xlabel('Actual Values')\n",
        "plt.ylabel('Predicted Values')\n",
        "plt.title('Predicted vs Actual Values - Extra Trees Model with Hyperparameter Tuning')\n",
        "plt.show()"
      ],
      "metadata": {
        "colab": {
          "base_uri": "https://localhost:8080/",
          "height": 564
        },
        "id": "tgw0MYuJnyyB",
        "outputId": "ea8a0a95-af49-4e69-af54-ccc073c134e6"
      },
      "execution_count": null,
      "outputs": [
        {
          "output_type": "display_data",
          "data": {
            "text/plain": [
              "<Figure size 800x600 with 1 Axes>"
            ],
            "image/png": "[encoded data removed]"
          },
          "metadata": {}
        }
      ]
    },
    {
      "cell_type": "code",
      "source": [
        "# Calculate residuals\n",
        "residuals = y_true - y_pred\n",
        "\n",
        "# Create a residuals plot\n",
        "plt.figure(figsize=(8, 6))\n",
        "plt.scatter(y_pred, residuals)\n",
        "plt.axhline(y=0, color='r', linestyle='--')\n",
        "plt.xlabel('Predicted Solar Output')\n",
        "plt.ylabel('Residuals')\n",
        "plt.title('Residuals Plot - Extra Trees Model with Hyperparameter Tuning')\n",
        "plt.show()"
      ],
      "metadata": {
        "colab": {
          "base_uri": "https://localhost:8080/",
          "height": 564
        },
        "id": "pIb-LNF-tKW7",
        "outputId": "2f08e466-abd2-44ee-93f4-7be38d3d5abc"
      },
      "execution_count": null,
      "outputs": [
        {
          "output_type": "display_data",
          "data": {
            "text/plain": [
              "<Figure size 800x600 with 1 Axes>"
            ],
            "image/png": "[encoded data removed]"
          },
          "metadata": {}
        }
      ]
    },
    {
      "cell_type": "code",
      "source": [
        "# Create a histogram of residuals\n",
        "plt.figure(figsize=(8, 6))\n",
        "plt.hist(residuals)\n",
        "plt.xlabel('Residuals')\n",
        "plt.ylabel('Frequency')\n",
        "plt.title('Histogram of Residuals - Extra Trees Model with Hyperparameter Tuning')\n",
        "plt.show()"
      ],
      "metadata": {
        "colab": {
          "base_uri": "https://localhost:8080/",
          "height": 564
        },
        "id": "7STG0qK2toIZ",
        "outputId": "cbe97ba1-0753-4784-94f8-6aeca13e622b"
      },
      "execution_count": null,
      "outputs": [
        {
          "output_type": "display_data",
          "data": {
            "text/plain": [
              "<Figure size 800x600 with 1 Axes>"
            ],
            "image/png": "[encoded data removed]"
          },
          "metadata": {}
        }
      ]
    },
    {
      "cell_type": "code",
      "source": [
        "# Get feature importances\n",
        "importances = best_model.feature_importances_\n",
        "\n",
        "# Create a DataFrame with variable names and importances\n",
        "feature_importances = pd.DataFrame({'Variable': X_train_red.columns, 'Importance': importances})\n",
        "\n",
        "# Sort the DataFrame by importance in descending order\n",
        "feature_importances = feature_importances.sort_values('Importance', ascending=False).reset_index(drop=True)"
      ],
      "metadata": {
        "id": "gL5iSa57cRiE"
      },
      "execution_count": null,
      "outputs": []
    },
    {
      "cell_type": "code",
      "source": [
        "# Display the feature importances\n",
        "print(\"Feature Importances:\")\n",
        "print(feature_importances)"
      ],
      "metadata": {
        "colab": {
          "base_uri": "https://localhost:8080/"
        },
        "id": "yYxiJnG6cS16",
        "outputId": "40cce979-b5ba-40bc-db6b-ebd33ec5fc6c"
      },
      "execution_count": null,
      "outputs": [
        {
          "output_type": "stream",
          "name": "stdout",
          "text": [
            "Feature Importances:\n",
            "             Variable  Importance\n",
            "0         AmbientTemp    0.286404\n",
            "1            Humidity    0.126196\n",
            "2              Zenith    0.056525\n",
            "3             AirTemp    0.056046\n",
            "4             Azimuth    0.055313\n",
            "5         AlbedoDaily    0.045477\n",
            "6            Altitude    0.039923\n",
            "7        CloudOpacity    0.035445\n",
            "8        DewpointTemp    0.035197\n",
            "9   PrecipitableWater    0.033495\n",
            "10         Wind.Speed    0.031832\n",
            "11    SurfacePressure    0.030998\n",
            "12           Pressure    0.030842\n",
            "13   WindDirection10m    0.025914\n",
            "14       WindSpeed10m    0.023719\n",
            "15   RelativeHumidity    0.022203\n",
            "16        GtiTracking    0.016790\n",
            "17       GtiFixedTilt    0.014167\n",
            "18                Ghi    0.013529\n",
            "19                Ebh    0.012807\n",
            "20          SnowWater    0.007180\n"
          ]
        }
      ]
    },
    {
      "cell_type": "code",
      "source": [
        "# Sort the feature importances for plot\n",
        "feature_importances = feature_importances.sort_values(by='Importance', ascending=True)\n",
        "\n",
        "# Plot the feature importances\n",
        "plt.figure(figsize=(10, 6))\n",
        "plt.barh(feature_importances['Variable'], feature_importances['Importance'])\n",
        "plt.xlabel('Importance')\n",
        "plt.ylabel('Variable')\n",
        "plt.title('Feature Importances - Extra Trees Model with Hyperparameter Tuning')\n",
        "plt.tight_layout()\n",
        "plt.show()"
      ],
      "metadata": {
        "colab": {
          "base_uri": "https://localhost:8080/",
          "height": 607
        },
        "id": "_yvuLhIzd6Mh",
        "outputId": "a7c36117-8184-4f11-b896-d2dbec4dae4d"
      },
      "execution_count": null,
      "outputs": [
        {
          "output_type": "display_data",
          "data": {
            "text/plain": [
              "<Figure size 1000x600 with 1 Axes>"
            ],
            "image/png": "[encoded data removed]"
          },
          "metadata": {}
        }
      ]
    }
  ]
}